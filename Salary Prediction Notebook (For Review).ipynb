{
 "cells": [
  {
   "cell_type": "markdown",
   "metadata": {},
   "source": [
    "# Salary Predictions Based on Job Descriptions"
   ]
  },
  {
   "cell_type": "markdown",
   "metadata": {},
   "source": [
    "# Part 1 - DEFINE"
   ]
  },
  {
   "cell_type": "markdown",
   "metadata": {},
   "source": [
    "### ---- 1 Define the problem ----"
   ]
  },
  {
   "cell_type": "markdown",
   "metadata": {},
   "source": [
    "Write the problem in your own words here"
   ]
  },
  {
   "cell_type": "code",
   "execution_count": 2,
   "metadata": {},
   "outputs": [],
   "source": [
    "#import your libraries\n",
    "import pandas as pd\n",
    "import sklearn as sk\n",
    "#etc\n",
    "\n",
    "#your info here\n",
    "__author__ = \"Arielle Dortch\"\n",
    "__email__ = \"arielledortch@gmail.com\""
   ]
  },
  {
   "cell_type": "markdown",
   "metadata": {},
   "source": [
    "## Part 2 - DISCOVER"
   ]
  },
  {
   "cell_type": "markdown",
   "metadata": {},
   "source": [
    "### ---- 2 Load the data ----"
   ]
  },
  {
   "cell_type": "code",
   "execution_count": 3,
   "metadata": {},
   "outputs": [],
   "source": [
    "#load the data into a Pandas dataframe\n",
    "train_salaries_df= pd.read_csv('/Users/arielledortch/Downloads/DSDJ/train_salaries.csv')\n",
    "train_features_df= pd.read_csv('/Users/arielledortch/Downloads/DSDJ/train_features.csv')\n",
    "test_features_df= pd.read_csv('/Users/arielledortch/Downloads/DSDJ/test_features.csv')"
   ]
  },
  {
   "cell_type": "markdown",
   "metadata": {},
   "source": [
    "### ---- 3 Examine the data ----"
   ]
  },
  {
   "cell_type": "code",
   "execution_count": 4,
   "metadata": {},
   "outputs": [
    {
     "data": {
      "text/html": [
       "<div>\n",
       "<style scoped>\n",
       "    .dataframe tbody tr th:only-of-type {\n",
       "        vertical-align: middle;\n",
       "    }\n",
       "\n",
       "    .dataframe tbody tr th {\n",
       "        vertical-align: top;\n",
       "    }\n",
       "\n",
       "    .dataframe thead th {\n",
       "        text-align: right;\n",
       "    }\n",
       "</style>\n",
       "<table border=\"1\" class=\"dataframe\">\n",
       "  <thead>\n",
       "    <tr style=\"text-align: right;\">\n",
       "      <th></th>\n",
       "      <th>jobId</th>\n",
       "      <th>salary</th>\n",
       "    </tr>\n",
       "  </thead>\n",
       "  <tbody>\n",
       "    <tr>\n",
       "      <th>0</th>\n",
       "      <td>JOB1362684407687</td>\n",
       "      <td>130</td>\n",
       "    </tr>\n",
       "    <tr>\n",
       "      <th>1</th>\n",
       "      <td>JOB1362684407688</td>\n",
       "      <td>101</td>\n",
       "    </tr>\n",
       "    <tr>\n",
       "      <th>2</th>\n",
       "      <td>JOB1362684407689</td>\n",
       "      <td>137</td>\n",
       "    </tr>\n",
       "    <tr>\n",
       "      <th>3</th>\n",
       "      <td>JOB1362684407690</td>\n",
       "      <td>142</td>\n",
       "    </tr>\n",
       "    <tr>\n",
       "      <th>4</th>\n",
       "      <td>JOB1362684407691</td>\n",
       "      <td>163</td>\n",
       "    </tr>\n",
       "  </tbody>\n",
       "</table>\n",
       "</div>"
      ],
      "text/plain": [
       "              jobId  salary\n",
       "0  JOB1362684407687     130\n",
       "1  JOB1362684407688     101\n",
       "2  JOB1362684407689     137\n",
       "3  JOB1362684407690     142\n",
       "4  JOB1362684407691     163"
      ]
     },
     "execution_count": 4,
     "metadata": {},
     "output_type": "execute_result"
    }
   ],
   "source": [
    "train_salaries_df.head(5)"
   ]
  },
  {
   "cell_type": "code",
   "execution_count": 5,
   "metadata": {},
   "outputs": [
    {
     "data": {
      "text/html": [
       "<div>\n",
       "<style scoped>\n",
       "    .dataframe tbody tr th:only-of-type {\n",
       "        vertical-align: middle;\n",
       "    }\n",
       "\n",
       "    .dataframe tbody tr th {\n",
       "        vertical-align: top;\n",
       "    }\n",
       "\n",
       "    .dataframe thead th {\n",
       "        text-align: right;\n",
       "    }\n",
       "</style>\n",
       "<table border=\"1\" class=\"dataframe\">\n",
       "  <thead>\n",
       "    <tr style=\"text-align: right;\">\n",
       "      <th></th>\n",
       "      <th>jobId</th>\n",
       "      <th>companyId</th>\n",
       "      <th>jobType</th>\n",
       "      <th>degree</th>\n",
       "      <th>major</th>\n",
       "      <th>industry</th>\n",
       "      <th>yearsExperience</th>\n",
       "      <th>milesFromMetropolis</th>\n",
       "    </tr>\n",
       "  </thead>\n",
       "  <tbody>\n",
       "    <tr>\n",
       "      <th>0</th>\n",
       "      <td>JOB1362684407687</td>\n",
       "      <td>COMP37</td>\n",
       "      <td>CFO</td>\n",
       "      <td>MASTERS</td>\n",
       "      <td>MATH</td>\n",
       "      <td>HEALTH</td>\n",
       "      <td>10</td>\n",
       "      <td>83</td>\n",
       "    </tr>\n",
       "    <tr>\n",
       "      <th>1</th>\n",
       "      <td>JOB1362684407688</td>\n",
       "      <td>COMP19</td>\n",
       "      <td>CEO</td>\n",
       "      <td>HIGH_SCHOOL</td>\n",
       "      <td>NONE</td>\n",
       "      <td>WEB</td>\n",
       "      <td>3</td>\n",
       "      <td>73</td>\n",
       "    </tr>\n",
       "    <tr>\n",
       "      <th>2</th>\n",
       "      <td>JOB1362684407689</td>\n",
       "      <td>COMP52</td>\n",
       "      <td>VICE_PRESIDENT</td>\n",
       "      <td>DOCTORAL</td>\n",
       "      <td>PHYSICS</td>\n",
       "      <td>HEALTH</td>\n",
       "      <td>10</td>\n",
       "      <td>38</td>\n",
       "    </tr>\n",
       "    <tr>\n",
       "      <th>3</th>\n",
       "      <td>JOB1362684407690</td>\n",
       "      <td>COMP38</td>\n",
       "      <td>MANAGER</td>\n",
       "      <td>DOCTORAL</td>\n",
       "      <td>CHEMISTRY</td>\n",
       "      <td>AUTO</td>\n",
       "      <td>8</td>\n",
       "      <td>17</td>\n",
       "    </tr>\n",
       "    <tr>\n",
       "      <th>4</th>\n",
       "      <td>JOB1362684407691</td>\n",
       "      <td>COMP7</td>\n",
       "      <td>VICE_PRESIDENT</td>\n",
       "      <td>BACHELORS</td>\n",
       "      <td>PHYSICS</td>\n",
       "      <td>FINANCE</td>\n",
       "      <td>8</td>\n",
       "      <td>16</td>\n",
       "    </tr>\n",
       "  </tbody>\n",
       "</table>\n",
       "</div>"
      ],
      "text/plain": [
       "              jobId companyId         jobType       degree      major  \\\n",
       "0  JOB1362684407687    COMP37             CFO      MASTERS       MATH   \n",
       "1  JOB1362684407688    COMP19             CEO  HIGH_SCHOOL       NONE   \n",
       "2  JOB1362684407689    COMP52  VICE_PRESIDENT     DOCTORAL    PHYSICS   \n",
       "3  JOB1362684407690    COMP38         MANAGER     DOCTORAL  CHEMISTRY   \n",
       "4  JOB1362684407691     COMP7  VICE_PRESIDENT    BACHELORS    PHYSICS   \n",
       "\n",
       "  industry  yearsExperience  milesFromMetropolis  \n",
       "0   HEALTH               10                   83  \n",
       "1      WEB                3                   73  \n",
       "2   HEALTH               10                   38  \n",
       "3     AUTO                8                   17  \n",
       "4  FINANCE                8                   16  "
      ]
     },
     "execution_count": 5,
     "metadata": {},
     "output_type": "execute_result"
    }
   ],
   "source": [
    "train_features_df.head(5)"
   ]
  },
  {
   "cell_type": "code",
   "execution_count": 6,
   "metadata": {},
   "outputs": [
    {
     "data": {
      "text/html": [
       "<div>\n",
       "<style scoped>\n",
       "    .dataframe tbody tr th:only-of-type {\n",
       "        vertical-align: middle;\n",
       "    }\n",
       "\n",
       "    .dataframe tbody tr th {\n",
       "        vertical-align: top;\n",
       "    }\n",
       "\n",
       "    .dataframe thead th {\n",
       "        text-align: right;\n",
       "    }\n",
       "</style>\n",
       "<table border=\"1\" class=\"dataframe\">\n",
       "  <thead>\n",
       "    <tr style=\"text-align: right;\">\n",
       "      <th></th>\n",
       "      <th>jobId</th>\n",
       "      <th>companyId</th>\n",
       "      <th>jobType</th>\n",
       "      <th>degree</th>\n",
       "      <th>major</th>\n",
       "      <th>industry</th>\n",
       "      <th>yearsExperience</th>\n",
       "      <th>milesFromMetropolis</th>\n",
       "    </tr>\n",
       "  </thead>\n",
       "  <tbody>\n",
       "    <tr>\n",
       "      <th>0</th>\n",
       "      <td>JOB1362685407687</td>\n",
       "      <td>COMP33</td>\n",
       "      <td>MANAGER</td>\n",
       "      <td>HIGH_SCHOOL</td>\n",
       "      <td>NONE</td>\n",
       "      <td>HEALTH</td>\n",
       "      <td>22</td>\n",
       "      <td>73</td>\n",
       "    </tr>\n",
       "    <tr>\n",
       "      <th>1</th>\n",
       "      <td>JOB1362685407688</td>\n",
       "      <td>COMP13</td>\n",
       "      <td>JUNIOR</td>\n",
       "      <td>NONE</td>\n",
       "      <td>NONE</td>\n",
       "      <td>AUTO</td>\n",
       "      <td>20</td>\n",
       "      <td>47</td>\n",
       "    </tr>\n",
       "    <tr>\n",
       "      <th>2</th>\n",
       "      <td>JOB1362685407689</td>\n",
       "      <td>COMP10</td>\n",
       "      <td>CTO</td>\n",
       "      <td>MASTERS</td>\n",
       "      <td>BIOLOGY</td>\n",
       "      <td>HEALTH</td>\n",
       "      <td>17</td>\n",
       "      <td>9</td>\n",
       "    </tr>\n",
       "    <tr>\n",
       "      <th>3</th>\n",
       "      <td>JOB1362685407690</td>\n",
       "      <td>COMP21</td>\n",
       "      <td>MANAGER</td>\n",
       "      <td>HIGH_SCHOOL</td>\n",
       "      <td>NONE</td>\n",
       "      <td>OIL</td>\n",
       "      <td>14</td>\n",
       "      <td>96</td>\n",
       "    </tr>\n",
       "    <tr>\n",
       "      <th>4</th>\n",
       "      <td>JOB1362685407691</td>\n",
       "      <td>COMP36</td>\n",
       "      <td>JUNIOR</td>\n",
       "      <td>DOCTORAL</td>\n",
       "      <td>BIOLOGY</td>\n",
       "      <td>OIL</td>\n",
       "      <td>10</td>\n",
       "      <td>44</td>\n",
       "    </tr>\n",
       "  </tbody>\n",
       "</table>\n",
       "</div>"
      ],
      "text/plain": [
       "              jobId companyId  jobType       degree    major industry  \\\n",
       "0  JOB1362685407687    COMP33  MANAGER  HIGH_SCHOOL     NONE   HEALTH   \n",
       "1  JOB1362685407688    COMP13   JUNIOR         NONE     NONE     AUTO   \n",
       "2  JOB1362685407689    COMP10      CTO      MASTERS  BIOLOGY   HEALTH   \n",
       "3  JOB1362685407690    COMP21  MANAGER  HIGH_SCHOOL     NONE      OIL   \n",
       "4  JOB1362685407691    COMP36   JUNIOR     DOCTORAL  BIOLOGY      OIL   \n",
       "\n",
       "   yearsExperience  milesFromMetropolis  \n",
       "0               22                   73  \n",
       "1               20                   47  \n",
       "2               17                    9  \n",
       "3               14                   96  \n",
       "4               10                   44  "
      ]
     },
     "execution_count": 6,
     "metadata": {},
     "output_type": "execute_result"
    }
   ],
   "source": [
    "test_features_df.head(5)"
   ]
  },
  {
   "cell_type": "markdown",
   "metadata": {},
   "source": [
    "### ---- 4 Clean the data ----"
   ]
  },
  {
   "cell_type": "code",
   "execution_count": 7,
   "metadata": {},
   "outputs": [],
   "source": [
    "#look for duplicate data"
   ]
  },
  {
   "cell_type": "code",
   "execution_count": 8,
   "metadata": {},
   "outputs": [
    {
     "data": {
      "text/plain": [
       "0"
      ]
     },
     "execution_count": 8,
     "metadata": {},
     "output_type": "execute_result"
    }
   ],
   "source": [
    "#look for duplicate data, invalid data\n",
    "train_salaries_df.duplicated().sum()"
   ]
  },
  {
   "cell_type": "code",
   "execution_count": 9,
   "metadata": {},
   "outputs": [
    {
     "data": {
      "text/plain": [
       "0"
      ]
     },
     "execution_count": 9,
     "metadata": {},
     "output_type": "execute_result"
    }
   ],
   "source": [
    "train_features_df.duplicated().sum()"
   ]
  },
  {
   "cell_type": "code",
   "execution_count": 10,
   "metadata": {},
   "outputs": [
    {
     "data": {
      "text/plain": [
       "0"
      ]
     },
     "execution_count": 10,
     "metadata": {},
     "output_type": "execute_result"
    }
   ],
   "source": [
    "test_features_df.duplicated().sum()"
   ]
  },
  {
   "cell_type": "code",
   "execution_count": 16,
   "metadata": {},
   "outputs": [
    {
     "data": {
      "text/plain": [
       "False"
      ]
     },
     "execution_count": 16,
     "metadata": {},
     "output_type": "execute_result"
    }
   ],
   "source": [
    "#look for corrupt data and remove it\n",
    "train_salaries_df.isnull().values.any()"
   ]
  },
  {
   "cell_type": "code",
   "execution_count": 15,
   "metadata": {},
   "outputs": [
    {
     "data": {
      "text/plain": [
       "False"
      ]
     },
     "execution_count": 15,
     "metadata": {},
     "output_type": "execute_result"
    }
   ],
   "source": [
    "train_features_df.isnull().values.any()"
   ]
  },
  {
   "cell_type": "code",
   "execution_count": 17,
   "metadata": {},
   "outputs": [
    {
     "data": {
      "text/plain": [
       "False"
      ]
     },
     "execution_count": 17,
     "metadata": {},
     "output_type": "execute_result"
    }
   ],
   "source": [
    "test_features_df.isnull().values.any()"
   ]
  },
  {
   "cell_type": "code",
   "execution_count": 18,
   "metadata": {},
   "outputs": [
    {
     "data": {
      "text/html": [
       "<div>\n",
       "<style scoped>\n",
       "    .dataframe tbody tr th:only-of-type {\n",
       "        vertical-align: middle;\n",
       "    }\n",
       "\n",
       "    .dataframe tbody tr th {\n",
       "        vertical-align: top;\n",
       "    }\n",
       "\n",
       "    .dataframe thead th {\n",
       "        text-align: right;\n",
       "    }\n",
       "</style>\n",
       "<table border=\"1\" class=\"dataframe\">\n",
       "  <thead>\n",
       "    <tr style=\"text-align: right;\">\n",
       "      <th></th>\n",
       "      <th>jobId</th>\n",
       "      <th>salary</th>\n",
       "    </tr>\n",
       "  </thead>\n",
       "  <tbody>\n",
       "    <tr>\n",
       "      <th>30559</th>\n",
       "      <td>JOB1362684438246</td>\n",
       "      <td>0</td>\n",
       "    </tr>\n",
       "    <tr>\n",
       "      <th>495984</th>\n",
       "      <td>JOB1362684903671</td>\n",
       "      <td>0</td>\n",
       "    </tr>\n",
       "    <tr>\n",
       "      <th>652076</th>\n",
       "      <td>JOB1362685059763</td>\n",
       "      <td>0</td>\n",
       "    </tr>\n",
       "    <tr>\n",
       "      <th>816129</th>\n",
       "      <td>JOB1362685223816</td>\n",
       "      <td>0</td>\n",
       "    </tr>\n",
       "    <tr>\n",
       "      <th>828156</th>\n",
       "      <td>JOB1362685235843</td>\n",
       "      <td>0</td>\n",
       "    </tr>\n",
       "  </tbody>\n",
       "</table>\n",
       "</div>"
      ],
      "text/plain": [
       "                   jobId  salary\n",
       "30559   JOB1362684438246       0\n",
       "495984  JOB1362684903671       0\n",
       "652076  JOB1362685059763       0\n",
       "816129  JOB1362685223816       0\n",
       "828156  JOB1362685235843       0"
      ]
     },
     "execution_count": 18,
     "metadata": {},
     "output_type": "execute_result"
    }
   ],
   "source": [
    "#look for invalid data\n",
    "train_salaries_df[train_salaries_df['salary']<=0]"
   ]
  },
  {
   "cell_type": "code",
   "execution_count": 19,
   "metadata": {},
   "outputs": [],
   "source": [
    "train_salaries_df= train_salaries_df[train_salaries_df['salary']>0]"
   ]
  },
  {
   "cell_type": "markdown",
   "metadata": {},
   "source": [
    "### ---- 5 Explore the data (EDA) ----"
   ]
  },
  {
   "cell_type": "code",
   "execution_count": 3,
   "metadata": {},
   "outputs": [],
   "source": [
    "#summarize each feature variable\n",
    "#summarize the target variable\n",
    "#look for correlation between each feature and the target\n",
    "#look for correlation between features"
   ]
  },
  {
   "cell_type": "code",
   "execution_count": 20,
   "metadata": {},
   "outputs": [
    {
     "name": "stdout",
     "output_type": "stream",
     "text": [
      "<class 'pandas.core.frame.DataFrame'>\n",
      "RangeIndex: 1000000 entries, 0 to 999999\n",
      "Data columns (total 8 columns):\n",
      "jobId                  1000000 non-null object\n",
      "companyId              1000000 non-null object\n",
      "jobType                1000000 non-null object\n",
      "degree                 1000000 non-null object\n",
      "major                  1000000 non-null object\n",
      "industry               1000000 non-null object\n",
      "yearsExperience        1000000 non-null int64\n",
      "milesFromMetropolis    1000000 non-null int64\n",
      "dtypes: int64(2), object(6)\n",
      "memory usage: 61.0+ MB\n"
     ]
    }
   ],
   "source": [
    "train_features_df.info()"
   ]
  },
  {
   "cell_type": "code",
   "execution_count": 21,
   "metadata": {},
   "outputs": [],
   "source": [
    "categorical_variables = ['jobId','companyId','jobType','degree','major','industry']\n",
    "numerical_variables = ['yearsExperience','milesFromMetropolis']"
   ]
  },
  {
   "cell_type": "code",
   "execution_count": 23,
   "metadata": {},
   "outputs": [
    {
     "data": {
      "text/html": [
       "<div>\n",
       "<style scoped>\n",
       "    .dataframe tbody tr th:only-of-type {\n",
       "        vertical-align: middle;\n",
       "    }\n",
       "\n",
       "    .dataframe tbody tr th {\n",
       "        vertical-align: top;\n",
       "    }\n",
       "\n",
       "    .dataframe thead th {\n",
       "        text-align: right;\n",
       "    }\n",
       "</style>\n",
       "<table border=\"1\" class=\"dataframe\">\n",
       "  <thead>\n",
       "    <tr style=\"text-align: right;\">\n",
       "      <th></th>\n",
       "      <th>yearsExperience</th>\n",
       "      <th>milesFromMetropolis</th>\n",
       "    </tr>\n",
       "  </thead>\n",
       "  <tbody>\n",
       "    <tr>\n",
       "      <th>count</th>\n",
       "      <td>1000000.000000</td>\n",
       "      <td>1000000.000000</td>\n",
       "    </tr>\n",
       "    <tr>\n",
       "      <th>mean</th>\n",
       "      <td>11.992386</td>\n",
       "      <td>49.529260</td>\n",
       "    </tr>\n",
       "    <tr>\n",
       "      <th>std</th>\n",
       "      <td>7.212391</td>\n",
       "      <td>28.877733</td>\n",
       "    </tr>\n",
       "    <tr>\n",
       "      <th>min</th>\n",
       "      <td>0.000000</td>\n",
       "      <td>0.000000</td>\n",
       "    </tr>\n",
       "    <tr>\n",
       "      <th>25%</th>\n",
       "      <td>6.000000</td>\n",
       "      <td>25.000000</td>\n",
       "    </tr>\n",
       "    <tr>\n",
       "      <th>50%</th>\n",
       "      <td>12.000000</td>\n",
       "      <td>50.000000</td>\n",
       "    </tr>\n",
       "    <tr>\n",
       "      <th>75%</th>\n",
       "      <td>18.000000</td>\n",
       "      <td>75.000000</td>\n",
       "    </tr>\n",
       "    <tr>\n",
       "      <th>max</th>\n",
       "      <td>24.000000</td>\n",
       "      <td>99.000000</td>\n",
       "    </tr>\n",
       "  </tbody>\n",
       "</table>\n",
       "</div>"
      ],
      "text/plain": [
       "       yearsExperience  milesFromMetropolis\n",
       "count   1000000.000000       1000000.000000\n",
       "mean         11.992386            49.529260\n",
       "std           7.212391            28.877733\n",
       "min           0.000000             0.000000\n",
       "25%           6.000000            25.000000\n",
       "50%          12.000000            50.000000\n",
       "75%          18.000000            75.000000\n",
       "max          24.000000            99.000000"
      ]
     },
     "execution_count": 23,
     "metadata": {},
     "output_type": "execute_result"
    }
   ],
   "source": [
    "import numpy as np\n",
    "train_features_df.describe(include = [np.number])"
   ]
  },
  {
   "cell_type": "code",
   "execution_count": 24,
   "metadata": {},
   "outputs": [
    {
     "data": {
      "text/html": [
       "<div>\n",
       "<style scoped>\n",
       "    .dataframe tbody tr th:only-of-type {\n",
       "        vertical-align: middle;\n",
       "    }\n",
       "\n",
       "    .dataframe tbody tr th {\n",
       "        vertical-align: top;\n",
       "    }\n",
       "\n",
       "    .dataframe thead th {\n",
       "        text-align: right;\n",
       "    }\n",
       "</style>\n",
       "<table border=\"1\" class=\"dataframe\">\n",
       "  <thead>\n",
       "    <tr style=\"text-align: right;\">\n",
       "      <th></th>\n",
       "      <th>jobId</th>\n",
       "      <th>companyId</th>\n",
       "      <th>jobType</th>\n",
       "      <th>degree</th>\n",
       "      <th>major</th>\n",
       "      <th>industry</th>\n",
       "    </tr>\n",
       "  </thead>\n",
       "  <tbody>\n",
       "    <tr>\n",
       "      <th>count</th>\n",
       "      <td>1000000</td>\n",
       "      <td>1000000</td>\n",
       "      <td>1000000</td>\n",
       "      <td>1000000</td>\n",
       "      <td>1000000</td>\n",
       "      <td>1000000</td>\n",
       "    </tr>\n",
       "    <tr>\n",
       "      <th>unique</th>\n",
       "      <td>1000000</td>\n",
       "      <td>63</td>\n",
       "      <td>8</td>\n",
       "      <td>5</td>\n",
       "      <td>9</td>\n",
       "      <td>7</td>\n",
       "    </tr>\n",
       "    <tr>\n",
       "      <th>top</th>\n",
       "      <td>JOB1362684615914</td>\n",
       "      <td>COMP39</td>\n",
       "      <td>SENIOR</td>\n",
       "      <td>HIGH_SCHOOL</td>\n",
       "      <td>NONE</td>\n",
       "      <td>WEB</td>\n",
       "    </tr>\n",
       "    <tr>\n",
       "      <th>freq</th>\n",
       "      <td>1</td>\n",
       "      <td>16193</td>\n",
       "      <td>125886</td>\n",
       "      <td>236976</td>\n",
       "      <td>532355</td>\n",
       "      <td>143206</td>\n",
       "    </tr>\n",
       "  </tbody>\n",
       "</table>\n",
       "</div>"
      ],
      "text/plain": [
       "                   jobId companyId  jobType       degree    major industry\n",
       "count            1000000   1000000  1000000      1000000  1000000  1000000\n",
       "unique           1000000        63        8            5        9        7\n",
       "top     JOB1362684615914    COMP39   SENIOR  HIGH_SCHOOL     NONE      WEB\n",
       "freq                   1     16193   125886       236976   532355   143206"
      ]
     },
     "execution_count": 24,
     "metadata": {},
     "output_type": "execute_result"
    }
   ],
   "source": [
    "train_features_df.describe(include = 'O')"
   ]
  },
  {
   "cell_type": "code",
   "execution_count": 26,
   "metadata": {},
   "outputs": [
    {
     "data": {
      "text/html": [
       "<div>\n",
       "<style scoped>\n",
       "    .dataframe tbody tr th:only-of-type {\n",
       "        vertical-align: middle;\n",
       "    }\n",
       "\n",
       "    .dataframe tbody tr th {\n",
       "        vertical-align: top;\n",
       "    }\n",
       "\n",
       "    .dataframe thead th {\n",
       "        text-align: right;\n",
       "    }\n",
       "</style>\n",
       "<table border=\"1\" class=\"dataframe\">\n",
       "  <thead>\n",
       "    <tr style=\"text-align: right;\">\n",
       "      <th></th>\n",
       "      <th>jobId</th>\n",
       "      <th>companyId</th>\n",
       "      <th>jobType</th>\n",
       "      <th>degree</th>\n",
       "      <th>major</th>\n",
       "      <th>industry</th>\n",
       "      <th>yearsExperience</th>\n",
       "      <th>milesFromMetropolis</th>\n",
       "      <th>salary</th>\n",
       "    </tr>\n",
       "  </thead>\n",
       "  <tbody>\n",
       "    <tr>\n",
       "      <th>0</th>\n",
       "      <td>JOB1362684407687</td>\n",
       "      <td>COMP37</td>\n",
       "      <td>CFO</td>\n",
       "      <td>MASTERS</td>\n",
       "      <td>MATH</td>\n",
       "      <td>HEALTH</td>\n",
       "      <td>10</td>\n",
       "      <td>83</td>\n",
       "      <td>130</td>\n",
       "    </tr>\n",
       "    <tr>\n",
       "      <th>1</th>\n",
       "      <td>JOB1362684407688</td>\n",
       "      <td>COMP19</td>\n",
       "      <td>CEO</td>\n",
       "      <td>HIGH_SCHOOL</td>\n",
       "      <td>NONE</td>\n",
       "      <td>WEB</td>\n",
       "      <td>3</td>\n",
       "      <td>73</td>\n",
       "      <td>101</td>\n",
       "    </tr>\n",
       "    <tr>\n",
       "      <th>2</th>\n",
       "      <td>JOB1362684407689</td>\n",
       "      <td>COMP52</td>\n",
       "      <td>VICE_PRESIDENT</td>\n",
       "      <td>DOCTORAL</td>\n",
       "      <td>PHYSICS</td>\n",
       "      <td>HEALTH</td>\n",
       "      <td>10</td>\n",
       "      <td>38</td>\n",
       "      <td>137</td>\n",
       "    </tr>\n",
       "    <tr>\n",
       "      <th>3</th>\n",
       "      <td>JOB1362684407690</td>\n",
       "      <td>COMP38</td>\n",
       "      <td>MANAGER</td>\n",
       "      <td>DOCTORAL</td>\n",
       "      <td>CHEMISTRY</td>\n",
       "      <td>AUTO</td>\n",
       "      <td>8</td>\n",
       "      <td>17</td>\n",
       "      <td>142</td>\n",
       "    </tr>\n",
       "    <tr>\n",
       "      <th>4</th>\n",
       "      <td>JOB1362684407691</td>\n",
       "      <td>COMP7</td>\n",
       "      <td>VICE_PRESIDENT</td>\n",
       "      <td>BACHELORS</td>\n",
       "      <td>PHYSICS</td>\n",
       "      <td>FINANCE</td>\n",
       "      <td>8</td>\n",
       "      <td>16</td>\n",
       "      <td>163</td>\n",
       "    </tr>\n",
       "  </tbody>\n",
       "</table>\n",
       "</div>"
      ],
      "text/plain": [
       "              jobId companyId         jobType       degree      major  \\\n",
       "0  JOB1362684407687    COMP37             CFO      MASTERS       MATH   \n",
       "1  JOB1362684407688    COMP19             CEO  HIGH_SCHOOL       NONE   \n",
       "2  JOB1362684407689    COMP52  VICE_PRESIDENT     DOCTORAL    PHYSICS   \n",
       "3  JOB1362684407690    COMP38         MANAGER     DOCTORAL  CHEMISTRY   \n",
       "4  JOB1362684407691     COMP7  VICE_PRESIDENT    BACHELORS    PHYSICS   \n",
       "\n",
       "  industry  yearsExperience  milesFromMetropolis  salary  \n",
       "0   HEALTH               10                   83     130  \n",
       "1      WEB                3                   73     101  \n",
       "2   HEALTH               10                   38     137  \n",
       "3     AUTO                8                   17     142  \n",
       "4  FINANCE                8                   16     163  "
      ]
     },
     "execution_count": 26,
     "metadata": {},
     "output_type": "execute_result"
    }
   ],
   "source": [
    "#merge feature and target variables in order to look for correlation\n",
    "train_df = pd.merge(train_features_df, train_salaries_df, on = 'jobId')\n",
    "train_df.head(5)"
   ]
  },
  {
   "cell_type": "code",
   "execution_count": 29,
   "metadata": {},
   "outputs": [
    {
     "data": {
      "image/png": "[encoded data removed]",
      "text/plain": [
       "<Figure size 432x288 with 2 Axes>"
      ]
     },
     "metadata": {
      "needs_background": "light"
     },
     "output_type": "display_data"
    }
   ],
   "source": [
    "#Correlation of variables\n",
    "import seaborn as sns\n",
    "import matplotlib.pyplot as plt\n",
    "\n",
    "corr = train_df.corr()\n",
    "\n",
    "# Generate a mask for the upper triangle\n",
    "mask = np.zeros_like(corr, dtype=np.bool)\n",
    "mask[np.triu_indices_from(mask)] = True\n",
    "\n",
    "# Set up the matplotlib figure\n",
    "#f, ax = plt.subplots(figsize=(11, 9))\n",
    "\n",
    "# Generate a custom diverging colormap\n",
    "cmap = sns.diverging_palette(220, 10, as_cmap=True)\n",
    "\n",
    "# Draw the heatmap with the mask and correct aspect ratio\n",
    "sns.heatmap(corr, mask=mask, cmap=cmap, vmax=.3, center=0,\n",
    "            square=True, linewidths=.5, cbar_kws={\"shrink\": .5})\n",
    "plt.show()"
   ]
  },
  {
   "cell_type": "code",
   "execution_count": 30,
   "metadata": {},
   "outputs": [
    {
     "name": "stderr",
     "output_type": "stream",
     "text": [
      "/Users/arielledortch/anaconda3/lib/python3.6/site-packages/scipy/stats/stats.py:1713: FutureWarning: Using a non-tuple sequence for multidimensional indexing is deprecated; use `arr[tuple(seq)]` instead of `arr[seq]`. In the future this will be interpreted as an array index, `arr[np.array(seq)]`, which will result either in an error or a different result.\n",
      "  return np.add.reduce(sorted[indexer] * weights, axis=axis) / sumval\n"
     ]
    },
    {
     "data": {
      "image/png": "[encoded data removed]",
      "text/plain": [
       "<Figure size 432x288 with 1 Axes>"
      ]
     },
     "metadata": {
      "needs_background": "light"
     },
     "output_type": "display_data"
    }
   ],
   "source": [
    "sns.distplot(train_df.salary, bins = 20)\n",
    "plt.show()"
   ]
  },
  {
   "cell_type": "code",
   "execution_count": 58,
   "metadata": {},
   "outputs": [
    {
     "data": {
      "text/plain": [
       "<matplotlib.axes._subplots.AxesSubplot at 0xa19dd17f0>"
      ]
     },
     "execution_count": 58,
     "metadata": {},
     "output_type": "execute_result"
    },
    {
     "data": {
      "image/png": "[encoded data removed]",
      "text/plain": [
       "<Figure size 1008x432 with 1 Axes>"
      ]
     },
     "metadata": {
      "needs_background": "light"
     },
     "output_type": "display_data"
    }
   ],
   "source": [
    "#look for correlation between each feature and the target\n",
    "plt.figure(figsize= (14,6))\n",
    "sns.boxplot(\n",
    "    x='degree',\n",
    "    y='salary',\n",
    "    data=train_df\n",
    ")"
   ]
  },
  {
   "cell_type": "code",
   "execution_count": 57,
   "metadata": {},
   "outputs": [
    {
     "data": {
      "text/plain": [
       "<matplotlib.axes._subplots.AxesSubplot at 0xa3f8f6278>"
      ]
     },
     "execution_count": 57,
     "metadata": {},
     "output_type": "execute_result"
    },
    {
     "data": {
      "image/png": "[encoded data removed]",
      "text/plain": [
       "<Figure size 1008x432 with 1 Axes>"
      ]
     },
     "metadata": {
      "needs_background": "light"
     },
     "output_type": "display_data"
    }
   ],
   "source": [
    "plt.figure(figsize= (14,6))\n",
    "sns.boxplot(\n",
    "    x='major',\n",
    "    y='salary',\n",
    "    data=train_df\n",
    ")"
   ]
  },
  {
   "cell_type": "code",
   "execution_count": 59,
   "metadata": {},
   "outputs": [
    {
     "data": {
      "text/plain": [
       "<matplotlib.axes._subplots.AxesSubplot at 0xa18b03e80>"
      ]
     },
     "execution_count": 59,
     "metadata": {},
     "output_type": "execute_result"
    },
    {
     "data": {
      "image/png": "[encoded data removed]",
      "text/plain": [
       "<Figure size 1008x432 with 1 Axes>"
      ]
     },
     "metadata": {
      "needs_background": "light"
     },
     "output_type": "display_data"
    }
   ],
   "source": [
    "plt.figure(figsize= (14,6))\n",
    "sns.boxplot(\n",
    "    x='industry',\n",
    "    y='salary',\n",
    "    data=train_df\n",
    ")"
   ]
  },
  {
   "cell_type": "code",
   "execution_count": 60,
   "metadata": {},
   "outputs": [
    {
     "data": {
      "text/plain": [
       "<matplotlib.axes._subplots.AxesSubplot at 0xa18cac710>"
      ]
     },
     "execution_count": 60,
     "metadata": {},
     "output_type": "execute_result"
    },
    {
     "data": {
      "image/png": "[encoded data removed]",
      "text/plain": [
       "<Figure size 1008x432 with 1 Axes>"
      ]
     },
     "metadata": {
      "needs_background": "light"
     },
     "output_type": "display_data"
    }
   ],
   "source": [
    "plt.figure(figsize= (14,6))\n",
    "sns.boxplot(\n",
    "    x='jobType',\n",
    "    y='salary',\n",
    "    data=train_df\n",
    ")"
   ]
  },
  {
   "cell_type": "code",
   "execution_count": 123,
   "metadata": {},
   "outputs": [
    {
     "data": {
      "text/html": [
       "<div>\n",
       "<style scoped>\n",
       "    .dataframe tbody tr th:only-of-type {\n",
       "        vertical-align: middle;\n",
       "    }\n",
       "\n",
       "    .dataframe tbody tr th {\n",
       "        vertical-align: top;\n",
       "    }\n",
       "\n",
       "    .dataframe thead th {\n",
       "        text-align: right;\n",
       "    }\n",
       "</style>\n",
       "<table border=\"1\" class=\"dataframe\">\n",
       "  <thead>\n",
       "    <tr style=\"text-align: right;\">\n",
       "      <th></th>\n",
       "      <th>jobId</th>\n",
       "      <th>companyId</th>\n",
       "      <th>jobType</th>\n",
       "      <th>degree</th>\n",
       "      <th>major</th>\n",
       "      <th>industry</th>\n",
       "      <th>yearsExperience</th>\n",
       "      <th>milesFromMetropolis</th>\n",
       "    </tr>\n",
       "  </thead>\n",
       "  <tbody>\n",
       "    <tr>\n",
       "      <th>0</th>\n",
       "      <td>0</td>\n",
       "      <td>27</td>\n",
       "      <td>5</td>\n",
       "      <td>2</td>\n",
       "      <td>7</td>\n",
       "      <td>3</td>\n",
       "      <td>22</td>\n",
       "      <td>73</td>\n",
       "    </tr>\n",
       "    <tr>\n",
       "      <th>1</th>\n",
       "      <td>1</td>\n",
       "      <td>5</td>\n",
       "      <td>4</td>\n",
       "      <td>4</td>\n",
       "      <td>7</td>\n",
       "      <td>0</td>\n",
       "      <td>20</td>\n",
       "      <td>47</td>\n",
       "    </tr>\n",
       "    <tr>\n",
       "      <th>2</th>\n",
       "      <td>2</td>\n",
       "      <td>2</td>\n",
       "      <td>2</td>\n",
       "      <td>3</td>\n",
       "      <td>0</td>\n",
       "      <td>3</td>\n",
       "      <td>17</td>\n",
       "      <td>9</td>\n",
       "    </tr>\n",
       "    <tr>\n",
       "      <th>3</th>\n",
       "      <td>3</td>\n",
       "      <td>14</td>\n",
       "      <td>5</td>\n",
       "      <td>2</td>\n",
       "      <td>7</td>\n",
       "      <td>4</td>\n",
       "      <td>14</td>\n",
       "      <td>96</td>\n",
       "    </tr>\n",
       "    <tr>\n",
       "      <th>4</th>\n",
       "      <td>4</td>\n",
       "      <td>30</td>\n",
       "      <td>4</td>\n",
       "      <td>1</td>\n",
       "      <td>0</td>\n",
       "      <td>4</td>\n",
       "      <td>10</td>\n",
       "      <td>44</td>\n",
       "    </tr>\n",
       "  </tbody>\n",
       "</table>\n",
       "</div>"
      ],
      "text/plain": [
       "   jobId  companyId  jobType  degree  major  industry  yearsExperience  \\\n",
       "0      0         27        5       2      7         3               22   \n",
       "1      1          5        4       4      7         0               20   \n",
       "2      2          2        2       3      0         3               17   \n",
       "3      3         14        5       2      7         4               14   \n",
       "4      4         30        4       1      0         4               10   \n",
       "\n",
       "   milesFromMetropolis  \n",
       "0                   73  \n",
       "1                   47  \n",
       "2                    9  \n",
       "3                   96  \n",
       "4                   44  "
      ]
     },
     "execution_count": 123,
     "metadata": {},
     "output_type": "execute_result"
    }
   ],
   "source": [
    "# import labelencoder\n",
    "from sklearn.preprocessing import LabelEncoder\n",
    "# instantiate labelencoder object\n",
    "le = LabelEncoder()\n",
    "# apply le on categorical feature columns\n",
    "train_df[categorical_variables] = train_df[categorical_variables].apply(lambda col: le.fit_transform(col))\n",
    "test_features_df[categorical_variables] = test_features_df[categorical_variables].apply(lambda col: le.fit_transform(col))\n",
    "test_features_df.head()"
   ]
  },
  {
   "cell_type": "code",
   "execution_count": 80,
   "metadata": {},
   "outputs": [
    {
     "data": {
      "image/png": "[encoded data removed]",
      "text/plain": [
       "<Figure size 432x288 with 2 Axes>"
      ]
     },
     "metadata": {
      "needs_background": "light"
     },
     "output_type": "display_data"
    }
   ],
   "source": [
    "#Correlation of variables\n",
    "corr = train_df.corr()\n",
    "\n",
    "# Generate a mask for the upper triangle\n",
    "mask = np.zeros_like(corr, dtype=np.bool)\n",
    "mask[np.triu_indices_from(mask)] = True\n",
    "\n",
    "# Set up the matplotlib figure\n",
    "#f, ax = plt.subplots(figsize=(11, 9))\n",
    "\n",
    "# Generate a custom diverging colormap\n",
    "cmap = sns.diverging_palette(220, 10, as_cmap=True)\n",
    "\n",
    "# Draw the heatmap with the mask and correct aspect ratio\n",
    "sns.heatmap(corr, mask=mask, cmap=cmap, vmax=.3, center=0,\n",
    "            square=True, linewidths=.5, cbar_kws={\"shrink\": .5})\n",
    "plt.show()"
   ]
  },
  {
   "cell_type": "markdown",
   "metadata": {},
   "source": [
    "### ---- 6 Establish a baseline ----"
   ]
  },
  {
   "cell_type": "code",
   "execution_count": 5,
   "metadata": {},
   "outputs": [],
   "source": [
    "#select a reasonable metric (MSE in this case)\n",
    "#create an extremely simple model and measure its efficacy\n",
    "#e.g. use \"average salary\" for each industry as your model and then measure MSE\n",
    "#during 5-fold cross-validation"
   ]
  },
  {
   "cell_type": "code",
   "execution_count": 117,
   "metadata": {},
   "outputs": [
    {
     "name": "stdout",
     "output_type": "stream",
     "text": [
      "Intercept: \n",
      " 148.27029257971947\n",
      "Coefficients: \n",
      " [-3.99147948 -4.39086358 -3.3686501   1.6767114   2.01373953 -0.40014828]\n"
     ]
    }
   ],
   "source": [
    "#Predictive Model\n",
    "X = train_df[['jobType','degree','major','industry','yearsExperience','milesFromMetropolis']]\n",
    "Y= train_df['salary']\n",
    "\n",
    "from sklearn import linear_model \n",
    "regr = linear_model.LinearRegression()\n",
    "regr.fit(X, Y)\n",
    "\n",
    "print('Intercept: \\n', regr.intercept_)\n",
    "print('Coefficients: \\n', regr.coef_)"
   ]
  },
  {
   "cell_type": "code",
   "execution_count": 118,
   "metadata": {},
   "outputs": [
    {
     "name": "stdout",
     "output_type": "stream",
     "text": [
      "                            OLS Regression Results                            \n",
      "==============================================================================\n",
      "Dep. Variable:                 salary   R-squared:                       0.383\n",
      "Model:                            OLS   Adj. R-squared:                  0.383\n",
      "Method:                 Least Squares   F-statistic:                 1.034e+05\n",
      "Date:                Wed, 02 Oct 2019   Prob (F-statistic):               0.00\n",
      "Time:                        10:34:06   Log-Likelihood:            -4.8339e+06\n",
      "No. Observations:              999995   AIC:                         9.668e+06\n",
      "Df Residuals:                  999988   BIC:                         9.668e+06\n",
      "Df Model:                           6                                         \n",
      "Covariance Type:            nonrobust                                         \n",
      "=======================================================================================\n",
      "                          coef    std err          t      P>|t|      [0.025      0.975]\n",
      "---------------------------------------------------------------------------------------\n",
      "const                 148.2703      0.126   1178.741      0.000     148.024     148.517\n",
      "jobType                -3.9915      0.013   -300.652      0.000      -4.018      -3.965\n",
      "degree                 -4.3909      0.023   -188.933      0.000      -4.436      -4.345\n",
      "major                  -3.3687      0.014   -246.790      0.000      -3.395      -3.342\n",
      "industry                1.6767      0.015    110.291      0.000       1.647       1.707\n",
      "yearsExperience         2.0137      0.004    477.511      0.000       2.005       2.022\n",
      "milesFromMetropolis    -0.4001      0.001   -379.913      0.000      -0.402      -0.398\n",
      "==============================================================================\n",
      "Omnibus:                    11279.340   Durbin-Watson:                   2.001\n",
      "Prob(Omnibus):                  0.000   Jarque-Bera (JB):            10596.663\n",
      "Skew:                           0.218   Prob(JB):                         0.00\n",
      "Kurtosis:                       2.746   Cond. No.                         243.\n",
      "==============================================================================\n",
      "\n",
      "Warnings:\n",
      "[1] Standard Errors assume that the covariance matrix of the errors is correctly specified.\n"
     ]
    }
   ],
   "source": [
    "# Regression\n",
    "import statsmodels.api as sm\n",
    "X = sm.add_constant(X) # adding a constant\n",
    "model = sm.OLS(Y, X).fit()\n",
    "predictions = model.predict(X) \n",
    " \n",
    "print_model = model.summary()\n",
    "print(print_model)"
   ]
  },
  {
   "cell_type": "code",
   "execution_count": 124,
   "metadata": {},
   "outputs": [
    {
     "data": {
      "text/plain": [
       "array([0.38257757, 0.38279241, 0.38145541, 0.37989409, 0.38413067])"
      ]
     },
     "execution_count": 124,
     "metadata": {},
     "output_type": "execute_result"
    }
   ],
   "source": [
    "from sklearn.model_selection import cross_validate\n",
    "from sklearn import datasets, linear_model\n",
    "X = train_df[['jobType','degree','major','industry','yearsExperience','milesFromMetropolis']]\n",
    "Y= train_df['salary']\n",
    "lasso = linear_model.Lasso()\n",
    "cv_results = cross_validate(lasso, X, Y, cv=5)\n",
    "sorted(cv_results.keys()) \n",
    "cv_results['test_score']  "
   ]
  },
  {
   "cell_type": "code",
   "execution_count": 125,
   "metadata": {},
   "outputs": [
    {
     "name": "stdout",
     "output_type": "stream",
     "text": [
      "[-927.80950436 -927.16597358 -929.52778218 -926.58440818 -919.56387067]\n",
      "926.1303077910925\n"
     ]
    }
   ],
   "source": [
    "scores = cross_validate(lasso, X, Y, cv=5,                         \n",
    "                        scoring=('r2', 'neg_mean_squared_error'),\n",
    "                        return_train_score=True)\n",
    "mean_mse= -1.0*np.mean(scores['test_neg_mean_squared_error'])\n",
    "print(scores['test_neg_mean_squared_error'])\n",
    "print(mean_mse)   "
   ]
  },
  {
   "cell_type": "code",
   "execution_count": 149,
   "metadata": {},
   "outputs": [
    {
     "name": "stderr",
     "output_type": "stream",
     "text": [
      "[Parallel(n_jobs=4)]: Using backend LokyBackend with 4 concurrent workers.\n",
      "[Parallel(n_jobs=4)]: Done  10 tasks      | elapsed:    9.0s\n",
      "[Parallel(n_jobs=4)]: Done  60 out of  60 | elapsed:   27.9s finished\n",
      "[Parallel(n_jobs=4)]: Using backend ThreadingBackend with 4 concurrent workers.\n",
      "[Parallel(n_jobs=4)]: Done  10 tasks      | elapsed:    0.2s\n",
      "[Parallel(n_jobs=4)]: Done  60 out of  60 | elapsed:    1.1s finished\n",
      "[Parallel(n_jobs=4)]: Using backend ThreadingBackend with 4 concurrent workers.\n",
      "[Parallel(n_jobs=4)]: Done  10 tasks      | elapsed:    0.8s\n",
      "[Parallel(n_jobs=4)]: Done  60 out of  60 | elapsed:    4.1s finished\n",
      "[Parallel(n_jobs=4)]: Using backend LokyBackend with 4 concurrent workers.\n",
      "[Parallel(n_jobs=4)]: Done  10 tasks      | elapsed:    4.6s\n",
      "[Parallel(n_jobs=4)]: Done  60 out of  60 | elapsed:   22.2s finished\n",
      "[Parallel(n_jobs=4)]: Using backend ThreadingBackend with 4 concurrent workers.\n",
      "[Parallel(n_jobs=4)]: Done  10 tasks      | elapsed:    0.2s\n",
      "[Parallel(n_jobs=4)]: Done  60 out of  60 | elapsed:    1.0s finished\n",
      "[Parallel(n_jobs=4)]: Using backend ThreadingBackend with 4 concurrent workers.\n",
      "[Parallel(n_jobs=4)]: Done  10 tasks      | elapsed:    0.8s\n",
      "[Parallel(n_jobs=4)]: Done  60 out of  60 | elapsed:    4.0s finished\n",
      "[Parallel(n_jobs=4)]: Using backend LokyBackend with 4 concurrent workers.\n",
      "[Parallel(n_jobs=4)]: Done  10 tasks      | elapsed:    4.5s\n",
      "[Parallel(n_jobs=4)]: Done  60 out of  60 | elapsed:   22.2s finished\n",
      "[Parallel(n_jobs=4)]: Using backend ThreadingBackend with 4 concurrent workers.\n",
      "[Parallel(n_jobs=4)]: Done  10 tasks      | elapsed:    0.2s\n",
      "[Parallel(n_jobs=4)]: Done  60 out of  60 | elapsed:    1.0s finished\n",
      "[Parallel(n_jobs=4)]: Using backend ThreadingBackend with 4 concurrent workers.\n",
      "[Parallel(n_jobs=4)]: Done  10 tasks      | elapsed:    0.9s\n",
      "[Parallel(n_jobs=4)]: Done  60 out of  60 | elapsed:    4.0s finished\n",
      "[Parallel(n_jobs=4)]: Using backend LokyBackend with 4 concurrent workers.\n",
      "[Parallel(n_jobs=4)]: Done  10 tasks      | elapsed:    4.5s\n",
      "[Parallel(n_jobs=4)]: Done  60 out of  60 | elapsed:   22.0s finished\n",
      "[Parallel(n_jobs=4)]: Using backend ThreadingBackend with 4 concurrent workers.\n",
      "[Parallel(n_jobs=4)]: Done  10 tasks      | elapsed:    0.2s\n",
      "[Parallel(n_jobs=4)]: Done  60 out of  60 | elapsed:    1.0s finished\n",
      "[Parallel(n_jobs=4)]: Using backend ThreadingBackend with 4 concurrent workers.\n",
      "[Parallel(n_jobs=4)]: Done  10 tasks      | elapsed:    0.8s\n",
      "[Parallel(n_jobs=4)]: Done  60 out of  60 | elapsed:    4.0s finished\n",
      "[Parallel(n_jobs=4)]: Using backend LokyBackend with 4 concurrent workers.\n",
      "[Parallel(n_jobs=4)]: Done  10 tasks      | elapsed:    4.4s\n",
      "[Parallel(n_jobs=4)]: Done  60 out of  60 | elapsed:   22.1s finished\n",
      "[Parallel(n_jobs=4)]: Using backend ThreadingBackend with 4 concurrent workers.\n",
      "[Parallel(n_jobs=4)]: Done  10 tasks      | elapsed:    0.2s\n",
      "[Parallel(n_jobs=4)]: Done  60 out of  60 | elapsed:    1.0s finished\n",
      "[Parallel(n_jobs=4)]: Using backend ThreadingBackend with 4 concurrent workers.\n",
      "[Parallel(n_jobs=4)]: Done  10 tasks      | elapsed:    0.8s\n",
      "[Parallel(n_jobs=4)]: Done  60 out of  60 | elapsed:    4.0s finished\n"
     ]
    },
    {
     "data": {
      "text/plain": [
       "array([0.73557795, 0.73629123, 0.73569545, 0.73577031, 0.73661733])"
      ]
     },
     "execution_count": 149,
     "metadata": {},
     "output_type": "execute_result"
    }
   ],
   "source": [
    "from sklearn.ensemble import RandomForestRegressor\n",
    "rf= RandomForestRegressor(n_estimators= 100, n_jobs=4, max_depth=20, min_samples_split=80, max_features=0.5, verbose= 5)\n",
    "cv_results = cross_validate(rf, X, Y, cv=5)\n",
    "sorted(cv_results.keys()) \n",
    "cv_results['test_score']  "
   ]
  },
  {
   "cell_type": "code",
   "execution_count": 130,
   "metadata": {},
   "outputs": [
    {
     "name": "stderr",
     "output_type": "stream",
     "text": [
      "[Parallel(n_jobs=2)]: Using backend LokyBackend with 2 concurrent workers.\n",
      "[Parallel(n_jobs=2)]: Done  14 tasks      | elapsed:   10.4s\n",
      "[Parallel(n_jobs=2)]: Done  60 out of  60 | elapsed:   43.7s finished\n",
      "[Parallel(n_jobs=2)]: Using backend ThreadingBackend with 2 concurrent workers.\n",
      "[Parallel(n_jobs=2)]: Done  14 tasks      | elapsed:    0.4s\n",
      "[Parallel(n_jobs=2)]: Done  60 out of  60 | elapsed:    2.0s finished\n",
      "[Parallel(n_jobs=2)]: Using backend ThreadingBackend with 2 concurrent workers.\n",
      "[Parallel(n_jobs=2)]: Done  14 tasks      | elapsed:    0.4s\n",
      "[Parallel(n_jobs=2)]: Done  60 out of  60 | elapsed:    1.6s finished\n",
      "[Parallel(n_jobs=2)]: Using backend ThreadingBackend with 2 concurrent workers.\n",
      "[Parallel(n_jobs=2)]: Done  14 tasks      | elapsed:    1.5s\n",
      "[Parallel(n_jobs=2)]: Done  60 out of  60 | elapsed:    6.6s finished\n",
      "[Parallel(n_jobs=2)]: Using backend ThreadingBackend with 2 concurrent workers.\n",
      "[Parallel(n_jobs=2)]: Done  14 tasks      | elapsed:    2.5s\n",
      "[Parallel(n_jobs=2)]: Done  60 out of  60 | elapsed:    7.8s finished\n",
      "[Parallel(n_jobs=2)]: Using backend LokyBackend with 2 concurrent workers.\n",
      "[Parallel(n_jobs=2)]: Done  14 tasks      | elapsed:    9.8s\n",
      "[Parallel(n_jobs=2)]: Done  60 out of  60 | elapsed:   42.5s finished\n",
      "[Parallel(n_jobs=2)]: Using backend ThreadingBackend with 2 concurrent workers.\n",
      "[Parallel(n_jobs=2)]: Done  14 tasks      | elapsed:    0.4s\n",
      "[Parallel(n_jobs=2)]: Done  60 out of  60 | elapsed:    1.5s finished\n",
      "[Parallel(n_jobs=2)]: Using backend ThreadingBackend with 2 concurrent workers.\n",
      "[Parallel(n_jobs=2)]: Done  14 tasks      | elapsed:    0.7s\n",
      "[Parallel(n_jobs=2)]: Done  60 out of  60 | elapsed:    2.2s finished\n",
      "[Parallel(n_jobs=2)]: Using backend ThreadingBackend with 2 concurrent workers.\n",
      "[Parallel(n_jobs=2)]: Done  14 tasks      | elapsed:    1.5s\n",
      "[Parallel(n_jobs=2)]: Done  60 out of  60 | elapsed:    6.1s finished\n",
      "[Parallel(n_jobs=2)]: Using backend ThreadingBackend with 2 concurrent workers.\n",
      "[Parallel(n_jobs=2)]: Done  14 tasks      | elapsed:    1.4s\n",
      "[Parallel(n_jobs=2)]: Done  60 out of  60 | elapsed:    5.9s finished\n",
      "[Parallel(n_jobs=2)]: Using backend LokyBackend with 2 concurrent workers.\n",
      "[Parallel(n_jobs=2)]: Done  14 tasks      | elapsed:    9.3s\n",
      "[Parallel(n_jobs=2)]: Done  60 out of  60 | elapsed:   39.7s finished\n",
      "[Parallel(n_jobs=2)]: Using backend ThreadingBackend with 2 concurrent workers.\n",
      "[Parallel(n_jobs=2)]: Done  14 tasks      | elapsed:    0.4s\n",
      "[Parallel(n_jobs=2)]: Done  60 out of  60 | elapsed:    1.5s finished\n",
      "[Parallel(n_jobs=2)]: Using backend ThreadingBackend with 2 concurrent workers.\n",
      "[Parallel(n_jobs=2)]: Done  14 tasks      | elapsed:    0.4s\n",
      "[Parallel(n_jobs=2)]: Done  60 out of  60 | elapsed:    1.5s finished\n",
      "[Parallel(n_jobs=2)]: Using backend ThreadingBackend with 2 concurrent workers.\n",
      "[Parallel(n_jobs=2)]: Done  14 tasks      | elapsed:    1.4s\n",
      "[Parallel(n_jobs=2)]: Done  60 out of  60 | elapsed:    6.7s finished\n",
      "[Parallel(n_jobs=2)]: Using backend ThreadingBackend with 2 concurrent workers.\n",
      "[Parallel(n_jobs=2)]: Done  14 tasks      | elapsed:    1.6s\n",
      "[Parallel(n_jobs=2)]: Done  60 out of  60 | elapsed:    6.3s finished\n",
      "[Parallel(n_jobs=2)]: Using backend LokyBackend with 2 concurrent workers.\n",
      "[Parallel(n_jobs=2)]: Done  14 tasks      | elapsed:    9.2s\n",
      "[Parallel(n_jobs=2)]: Done  60 out of  60 | elapsed:   43.1s finished\n",
      "[Parallel(n_jobs=2)]: Using backend ThreadingBackend with 2 concurrent workers.\n",
      "[Parallel(n_jobs=2)]: Done  14 tasks      | elapsed:    0.4s\n",
      "[Parallel(n_jobs=2)]: Done  60 out of  60 | elapsed:    1.5s finished\n",
      "[Parallel(n_jobs=2)]: Using backend ThreadingBackend with 2 concurrent workers.\n",
      "[Parallel(n_jobs=2)]: Done  14 tasks      | elapsed:    0.3s\n",
      "[Parallel(n_jobs=2)]: Done  60 out of  60 | elapsed:    1.5s finished\n",
      "[Parallel(n_jobs=2)]: Using backend ThreadingBackend with 2 concurrent workers.\n",
      "[Parallel(n_jobs=2)]: Done  14 tasks      | elapsed:    1.4s\n",
      "[Parallel(n_jobs=2)]: Done  60 out of  60 | elapsed:    6.0s finished\n",
      "[Parallel(n_jobs=2)]: Using backend ThreadingBackend with 2 concurrent workers.\n",
      "[Parallel(n_jobs=2)]: Done  14 tasks      | elapsed:    1.4s\n",
      "[Parallel(n_jobs=2)]: Done  60 out of  60 | elapsed:    6.0s finished\n",
      "[Parallel(n_jobs=2)]: Using backend LokyBackend with 2 concurrent workers.\n",
      "[Parallel(n_jobs=2)]: Done  14 tasks      | elapsed:    9.3s\n",
      "[Parallel(n_jobs=2)]: Done  60 out of  60 | elapsed:   39.8s finished\n",
      "[Parallel(n_jobs=2)]: Using backend ThreadingBackend with 2 concurrent workers.\n",
      "[Parallel(n_jobs=2)]: Done  14 tasks      | elapsed:    0.5s\n",
      "[Parallel(n_jobs=2)]: Done  60 out of  60 | elapsed:    1.8s finished\n",
      "[Parallel(n_jobs=2)]: Using backend ThreadingBackend with 2 concurrent workers.\n",
      "[Parallel(n_jobs=2)]: Done  14 tasks      | elapsed:    0.4s\n",
      "[Parallel(n_jobs=2)]: Done  60 out of  60 | elapsed:    1.5s finished\n",
      "[Parallel(n_jobs=2)]: Using backend ThreadingBackend with 2 concurrent workers.\n",
      "[Parallel(n_jobs=2)]: Done  14 tasks      | elapsed:    1.5s\n",
      "[Parallel(n_jobs=2)]: Done  60 out of  60 | elapsed:    7.7s finished\n",
      "[Parallel(n_jobs=2)]: Using backend ThreadingBackend with 2 concurrent workers.\n",
      "[Parallel(n_jobs=2)]: Done  14 tasks      | elapsed:    2.3s\n"
     ]
    },
    {
     "name": "stdout",
     "output_type": "stream",
     "text": [
      "[-374.33100159 -373.57979046 -374.49445273 -370.88643138 -370.02725917]\n",
      "372.6637870662289\n"
     ]
    },
    {
     "name": "stderr",
     "output_type": "stream",
     "text": [
      "[Parallel(n_jobs=2)]: Done  60 out of  60 | elapsed:    7.6s finished\n"
     ]
    }
   ],
   "source": [
    "scores = cross_validate(rf, X, Y, cv=5,                         \n",
    "                        scoring=('r2', 'neg_mean_squared_error'),\n",
    "                        return_train_score=True)\n",
    "mean_mse= -1.0*np.mean(scores['test_neg_mean_squared_error'])\n",
    "print(scores['test_neg_mean_squared_error'])\n",
    "print(mean_mse)   "
   ]
  },
  {
   "cell_type": "code",
   "execution_count": 144,
   "metadata": {},
   "outputs": [
    {
     "name": "stdout",
     "output_type": "stream",
     "text": [
      "      Iter       Train Loss   Remaining Time \n",
      "         1        1336.8097            3.30m\n",
      "         2        1205.0298            3.24m\n",
      "         3        1096.8894            3.16m\n",
      "         4        1005.8857            3.13m\n",
      "         5         930.1229            3.09m\n",
      "         6         867.1869            3.05m\n",
      "         7         813.6304            3.01m\n",
      "         8         768.5892            2.98m\n",
      "         9         730.5078            2.93m\n",
      "        10         697.4872            2.90m\n",
      "        11         669.0092            2.86m\n",
      "        12         643.1762            2.82m\n",
      "        13         621.0038            2.79m\n",
      "        14         601.7265            2.75m\n",
      "        15         584.9951            2.71m\n",
      "        16         569.1971            2.68m\n",
      "        17         555.7202            2.65m\n",
      "        18         544.5249            2.61m\n",
      "        19         533.9868            2.58m\n",
      "        20         522.2816            2.54m\n",
      "        21         514.0338            2.51m\n",
      "        22         504.4010            2.48m\n",
      "        23         495.8181            2.44m\n",
      "        24         488.5058            2.41m\n",
      "        25         482.3594            2.38m\n",
      "        26         476.3199            2.34m\n",
      "        27         471.9524            2.31m\n",
      "        28         464.9730            2.27m\n",
      "        29         455.2929            2.24m\n",
      "        30         451.7589            2.20m\n",
      "        31         448.2080            2.17m\n",
      "        32         440.5723            2.13m\n",
      "        33         437.1679            2.10m\n",
      "        34         434.4324            2.07m\n",
      "        35         432.3308            2.04m\n",
      "        36         426.7654            2.00m\n",
      "        37         424.5874            1.97m\n",
      "        38         421.5667            1.94m\n",
      "        39         419.4813            1.90m\n",
      "        40         416.5084            1.87m\n",
      "        41         414.8794            1.84m\n",
      "        42         412.2972            1.80m\n",
      "        43         410.1560            1.77m\n",
      "        44         408.8149            1.74m\n",
      "        45         406.5903            1.70m\n",
      "        46         405.3425            1.67m\n",
      "        47         402.8357            1.64m\n",
      "        48         401.8699            1.61m\n",
      "        49         400.8760            1.57m\n",
      "        50         399.5095            1.54m\n",
      "        51         398.3176            1.51m\n",
      "        52         396.4614            1.48m\n",
      "        53         395.3645            1.45m\n",
      "        54         394.5791            1.42m\n",
      "        55         393.9539            1.38m\n",
      "        56         393.1731            1.35m\n",
      "        57         392.6033            1.32m\n",
      "        58         391.9230            1.29m\n",
      "        59         390.1187            1.26m\n",
      "        60         389.6959            1.22m\n",
      "        61         389.0216            1.19m\n",
      "        62         388.5364            1.16m\n",
      "        63         387.4685            1.13m\n",
      "        64         387.1438            1.10m\n",
      "        65         386.6218            1.07m\n",
      "        66         385.5659            1.04m\n",
      "        67         385.3073            1.01m\n",
      "        68         385.0400           58.41s\n",
      "        69         383.9906           56.54s\n",
      "        70         383.7178           54.71s\n",
      "        71         383.2155           52.84s\n",
      "        72         382.9110           51.05s\n",
      "        73         382.6926           49.18s\n",
      "        74         382.4243           47.38s\n",
      "        75         381.8399           45.53s\n",
      "        76         381.6462           43.71s\n",
      "        77         381.4309           41.85s\n",
      "        78         380.9017           39.96s\n",
      "        79         380.7551           38.11s\n",
      "        80         380.0718           36.27s\n",
      "        81         379.9296           34.40s\n",
      "        82         379.7973           32.60s\n",
      "        83         379.6502           30.76s\n",
      "        84         378.9910           28.93s\n",
      "        85         378.9136           27.09s\n",
      "        86         378.7911           25.26s\n",
      "        87         378.2638           23.44s\n",
      "        88         378.1123           21.64s\n",
      "        89         377.6905           19.82s\n",
      "        90         377.6267           18.02s\n",
      "        91         377.5354           16.21s\n",
      "        92         377.4245           14.40s\n",
      "        93         377.2518           12.60s\n",
      "        94         377.1854           10.79s\n",
      "        95         377.0299            8.99s\n",
      "        96         376.9888            7.19s\n",
      "        97         376.7152            5.39s\n",
      "        98         376.4488            3.59s\n",
      "        99         376.3459            1.79s\n",
      "       100         376.2691            0.00s\n",
      "      Iter       Train Loss   Remaining Time \n",
      "         1        1336.8968            3.24m\n",
      "         2        1205.1446            3.20m\n",
      "         3        1097.1582            3.13m\n",
      "         4        1005.8401            3.11m\n",
      "         5         930.1534            3.07m\n",
      "         6         867.1429            3.01m\n",
      "         7         813.4290            2.98m\n",
      "         8         767.7347            2.95m\n",
      "         9         729.7781            2.90m\n",
      "        10         696.3395            2.87m\n",
      "        11         667.7296            2.84m\n",
      "        12         641.9479            2.81m\n",
      "        13         620.3963            2.78m\n",
      "        14         600.9752            2.75m\n",
      "        15         583.5773            2.71m\n",
      "        16         568.8660            2.68m\n",
      "        17         554.2202            2.65m\n",
      "        18         542.8581            2.61m\n",
      "        19         532.5581            2.58m\n",
      "        20         520.5146            2.55m\n",
      "        21         511.9267            2.51m\n",
      "        22         502.3146            2.48m\n",
      "        23         495.4163            2.44m\n",
      "        24         489.3360            2.41m\n",
      "        25         483.7452            2.37m\n",
      "        26         476.9892            2.34m\n",
      "        27         471.0991            2.31m\n",
      "        28         464.1986            2.27m\n",
      "        29         459.4574            2.23m\n",
      "        30         450.0938            2.20m\n",
      "        31         446.8346            2.17m\n",
      "        32         442.8725            2.13m\n",
      "        33         438.8601            2.10m\n",
      "        34         431.9175            2.06m\n",
      "        35         428.8235            2.03m\n",
      "        36         425.2821            2.00m\n",
      "        37         423.2408            1.97m\n",
      "        38         419.3318            1.93m\n",
      "        39         415.1008            1.90m\n",
      "        40         413.3647            1.86m\n",
      "        41         411.4879            1.83m\n",
      "        42         410.1121            1.80m\n",
      "        43         407.9472            1.77m\n",
      "        44         406.2799            1.73m\n",
      "        45         404.1572            1.70m\n",
      "        46         403.1529            1.67m\n",
      "        47         402.0554            1.65m\n",
      "        48         400.3622            1.63m\n",
      "        49         398.9789            1.61m\n",
      "        50         398.1055            1.58m\n",
      "        51         397.0312            1.54m\n",
      "        52         394.8184            1.51m\n",
      "        53         394.2609            1.48m\n",
      "        54         392.7676            1.44m\n",
      "        55         392.1891            1.41m\n",
      "        56         391.0476            1.38m\n",
      "        57         390.2435            1.35m\n",
      "        58         389.5775            1.31m\n",
      "        59         388.7589            1.28m\n",
      "        60         387.9114            1.25m\n",
      "        61         386.8491            1.21m\n",
      "        62         386.3219            1.18m\n",
      "        63         385.4178            1.15m\n",
      "        64         385.1354            1.12m\n",
      "        65         384.3645            1.08m\n",
      "        66         384.0764            1.05m\n",
      "        67         383.7815            1.02m\n",
      "        68         383.1636           59.36s\n",
      "        69         382.5945           57.46s\n",
      "        70         382.2644           55.59s\n",
      "        71         381.9857           53.76s\n",
      "        72         381.7508           51.84s\n",
      "        73         381.4012           49.93s\n",
      "        74         381.2211           48.06s\n",
      "        75         380.7561           46.16s\n",
      "        76         380.5809           44.30s\n",
      "        77         380.4318           42.40s\n",
      "        78         379.9435           40.51s\n",
      "        79         379.7077           38.70s\n",
      "        80         379.5589           36.83s\n",
      "        81         379.3129           34.94s\n"
     ]
    },
    {
     "name": "stdout",
     "output_type": "stream",
     "text": [
      "        82         378.9338           33.07s\n",
      "        83         378.6432           31.22s\n",
      "        84         378.5351           29.38s\n",
      "        85         378.3618           27.49s\n",
      "        86         378.2535           25.66s\n",
      "        87         378.0747           23.81s\n",
      "        88         377.9943           21.97s\n",
      "        89         377.6580           20.12s\n",
      "        90         377.5295           18.27s\n",
      "        91         377.4669           16.43s\n",
      "        92         377.3880           14.60s\n",
      "        93         377.2976           12.76s\n",
      "        94         377.2246           10.93s\n",
      "        95         376.9437            9.10s\n",
      "        96         376.8180            7.28s\n",
      "        97         376.7648            5.45s\n",
      "        98         376.6759            3.63s\n",
      "        99         376.4621            1.82s\n",
      "       100         376.2703            0.00s\n",
      "      Iter       Train Loss   Remaining Time \n",
      "         1        1340.1121            3.11m\n",
      "         2        1207.3012            3.13m\n",
      "         3        1097.3709            3.11m\n",
      "         4        1006.5668            3.07m\n",
      "         5         931.2003            3.02m\n",
      "         6         867.2424            3.00m\n",
      "         7         813.9149            2.97m\n",
      "         8         769.1608            2.94m\n",
      "         9         730.7908            2.89m\n",
      "        10         697.5138            2.86m\n",
      "        11         669.0056            2.83m\n",
      "        12         643.5298            2.80m\n",
      "        13         621.7155            2.76m\n",
      "        14         602.3664            2.73m\n",
      "        15         585.9517            2.70m\n",
      "        16         570.6462            2.66m\n",
      "        17         556.3698            2.63m\n",
      "        18         544.0351            2.59m\n",
      "        19         530.8340            2.56m\n",
      "        20         521.8714            2.52m\n",
      "        21         513.3541            2.49m\n",
      "        22         504.8483            2.46m\n",
      "        23         497.5232            2.43m\n",
      "        24         491.4319            2.40m\n",
      "        25         478.5220            2.36m\n",
      "        26         473.4958            2.32m\n",
      "        27         468.0688            2.29m\n",
      "        28         462.6414            2.26m\n",
      "        29         458.2811            2.22m\n",
      "        30         453.4927            2.18m\n",
      "        31         447.8397            2.15m\n",
      "        32         440.5533            2.11m\n",
      "        33         437.2684            2.08m\n",
      "        34         434.8856            2.04m\n",
      "        35         432.2076            2.01m\n",
      "        36         426.6054            1.98m\n",
      "        37         424.5745            1.95m\n",
      "        38         420.0019            1.92m\n",
      "        39         417.9943            1.89m\n",
      "        40         416.4414            1.86m\n",
      "        41         412.8634            1.82m\n",
      "        42         411.4271            1.79m\n",
      "        43         409.6218            1.76m\n",
      "        44         408.1810            1.72m\n",
      "        45         406.4453            1.69m\n",
      "        46         405.3237            1.66m\n",
      "        47         403.6751            1.63m\n",
      "        48         401.4102            1.60m\n",
      "        49         400.3650            1.57m\n",
      "        50         399.5402            1.53m\n",
      "        51         397.7229            1.50m\n",
      "        52         396.9457            1.47m\n",
      "        53         396.3025            1.44m\n",
      "        54         394.7492            1.40m\n",
      "        55         393.8146            1.37m\n",
      "        56         393.2421            1.34m\n",
      "        57         392.6680            1.31m\n",
      "        58         391.4903            1.28m\n",
      "        59         390.9079            1.25m\n",
      "        60         390.1984            1.22m\n",
      "        61         389.5280            1.18m\n",
      "        62         389.1001            1.15m\n",
      "        63         388.5514            1.12m\n",
      "        64         387.9733            1.09m\n",
      "        65         386.6935            1.06m\n",
      "        66         385.9980            1.03m\n",
      "        67         385.5492           59.82s\n",
      "        68         385.1952           58.00s\n",
      "        69         384.8422           56.14s\n",
      "        70         384.3002           54.26s\n",
      "        71         383.9410           52.40s\n",
      "        72         383.6122           50.61s\n",
      "        73         383.3686           48.75s\n",
      "        74         382.9611           46.91s\n",
      "        75         382.7083           45.06s\n",
      "        76         382.4297           43.24s\n",
      "        77         381.6442           41.41s\n",
      "        78         381.2313           39.59s\n",
      "        79         381.0499           37.80s\n",
      "        80         380.8948           35.96s\n",
      "        81         380.4945           34.12s\n",
      "        82         380.2777           32.32s\n",
      "        83         379.8264           30.52s\n",
      "        84         379.7373           28.70s\n",
      "        85         379.2876           26.89s\n",
      "        86         379.0637           25.09s\n",
      "        87         378.9063           23.28s\n",
      "        88         378.8115           21.49s\n",
      "        89         378.6886           19.70s\n",
      "        90         378.6190           17.88s\n",
      "        91         378.2056           16.08s\n",
      "        92         378.1227           14.28s\n",
      "        93         378.0268           12.50s\n",
      "        94         377.9208           10.70s\n",
      "        95         377.7890            8.92s\n",
      "        96         377.6992            7.14s\n",
      "        97         377.6311            5.35s\n",
      "        98         377.2635            3.56s\n",
      "        99         377.1609            1.78s\n",
      "       100         376.9403            0.00s\n",
      "      Iter       Train Loss   Remaining Time \n",
      "         1        1338.7396            3.30m\n",
      "         2        1206.8775            3.23m\n",
      "         3        1098.5950            3.12m\n",
      "         4        1007.4083            3.09m\n",
      "         5         931.3183            3.04m\n",
      "         6         868.2189            3.01m\n",
      "         7         815.1705            2.95m\n",
      "         8         770.1520            2.93m\n",
      "         9         731.5224            2.91m\n",
      "        10         698.8904            2.86m\n",
      "        11         669.8486            2.83m\n",
      "        12         644.1961            2.80m\n",
      "        13         622.0142            2.77m\n",
      "        14         602.9889            2.74m\n",
      "        15         585.5740            2.71m\n",
      "        16         570.6374            2.68m\n",
      "        17         557.7848            2.64m\n",
      "        18         546.3052            2.61m\n",
      "        19         534.6804            2.57m\n",
      "        20         526.0086            2.53m\n",
      "        21         517.0351            2.50m\n",
      "        22         507.1799            2.47m\n",
      "        23         499.0751            2.43m\n",
      "        24         492.6431            2.40m\n",
      "        25         485.2957            2.37m\n",
      "        26         480.7185            2.33m\n",
      "        27         476.0438            2.29m\n",
      "        28         464.5924            2.26m\n",
      "        29         460.8909            2.22m\n",
      "        30         456.4205            2.19m\n",
      "        31         451.3622            2.15m\n",
      "        32         446.5607            2.12m\n",
      "        33         443.1966            2.08m\n",
      "        34         439.6909            2.06m\n",
      "        35         432.6136            2.02m\n",
      "        36         430.4040            1.99m\n",
      "        37         428.3010            1.95m\n",
      "        38         425.4564            1.92m\n",
      "        39         420.1769            1.88m\n",
      "        40         418.4665            1.85m\n",
      "        41         416.6578            1.82m\n",
      "        42         414.5880            1.78m\n",
      "        43         412.0824            1.76m\n",
      "        44         409.4283            1.72m\n",
      "        45         408.1607            1.69m\n",
      "        46         405.8500            1.65m\n",
      "        47         403.9014            1.62m\n",
      "        48         402.6175            1.59m\n",
      "        49         401.5943            1.56m\n",
      "        50         399.2900            1.53m\n",
      "        51         398.0527            1.49m\n",
      "        52         397.3374            1.46m\n",
      "        53         395.9626            1.43m\n",
      "        54         395.1651            1.40m\n",
      "        55         394.1485            1.36m\n",
      "        56         393.4209            1.33m\n",
      "        57         392.1150            1.30m\n",
      "        58         391.5617            1.27m\n",
      "        59         390.9836            1.24m\n",
      "        60         389.7746            1.21m\n",
      "        61         388.4312            1.18m\n",
      "        62         387.9710            1.15m\n"
     ]
    },
    {
     "name": "stdout",
     "output_type": "stream",
     "text": [
      "        63         387.4719            1.12m\n",
      "        64         386.4564            1.09m\n",
      "        65         385.9758            1.06m\n",
      "        66         385.6094            1.02m\n",
      "        67         384.9974           59.68s\n",
      "        68         384.7233           57.83s\n",
      "        69         383.9080           55.96s\n",
      "        70         383.6756           54.17s\n",
      "        71         383.0503           52.33s\n",
      "        72         382.6917           50.55s\n",
      "        73         382.0758           48.69s\n",
      "        74         381.8687           46.88s\n",
      "        75         381.5636           45.03s\n",
      "        76         381.1003           43.20s\n",
      "        77         380.7933           41.39s\n",
      "        78         380.6646           39.56s\n",
      "        79         380.2895           37.74s\n",
      "        80         380.1887           35.94s\n",
      "        81         379.9676           34.13s\n",
      "        82         379.6262           32.32s\n",
      "        83         379.4967           30.54s\n",
      "        84         379.0721           28.72s\n",
      "        85         378.9218           26.93s\n",
      "        86         378.8060           25.14s\n",
      "        87         378.7188           23.32s\n",
      "        88         378.6116           21.51s\n",
      "        89         378.3624           19.70s\n",
      "        90         378.2713           17.90s\n",
      "        91         378.1777           16.10s\n",
      "        92         378.1023           14.31s\n",
      "        93         377.8834           12.52s\n",
      "        94         377.6656           10.72s\n",
      "        95         377.4298            8.93s\n",
      "        96         377.2643            7.14s\n",
      "        97         377.1894            5.36s\n",
      "        98         377.1234            3.57s\n",
      "        99         377.0285            1.79s\n",
      "       100         376.8636            0.00s\n",
      "      Iter       Train Loss   Remaining Time \n",
      "         1        1339.2202            3.18m\n",
      "         2        1207.0837            3.15m\n",
      "         3        1099.4943            3.04m\n",
      "         4        1007.9267            3.02m\n",
      "         5         931.7475            2.99m\n",
      "         6         868.2907            2.97m\n",
      "         7         815.3158            2.93m\n",
      "         8         769.9498            2.90m\n",
      "         9         731.5152            2.87m\n",
      "        10         698.2381            2.84m\n",
      "        11         669.7985            2.80m\n",
      "        12         643.9514            2.77m\n",
      "        13         621.8843            2.74m\n",
      "        14         602.4042            2.70m\n",
      "        15         585.5870            2.67m\n",
      "        16         571.6923            2.63m\n",
      "        17         557.4236            2.60m\n",
      "        18         546.3423            2.56m\n",
      "        19         536.2223            2.52m\n",
      "        20         525.4523            2.50m\n",
      "        21         513.6966            2.47m\n",
      "        22         505.1699            2.43m\n",
      "        23         495.6819            2.40m\n",
      "        24         487.6673            2.37m\n",
      "        25         480.8428            2.34m\n",
      "        26         474.6920            2.30m\n",
      "        27         469.0272            2.27m\n",
      "        28         465.3954            2.23m\n",
      "        29         460.0128            2.19m\n",
      "        30         453.2076            2.16m\n",
      "        31         449.0319            2.13m\n",
      "        32         446.0640            2.10m\n",
      "        33         440.0049            2.06m\n",
      "        34         436.7752            2.03m\n",
      "        35         432.2590            2.00m\n",
      "        36         429.9491            1.97m\n",
      "        37         427.1032            1.94m\n",
      "        38         422.8461            1.90m\n",
      "        39         421.1128            1.87m\n",
      "        40         418.3784            1.84m\n",
      "        41         413.9591            1.81m\n",
      "        42         411.6595            1.78m\n",
      "        43         410.0756            1.75m\n",
      "        44         408.7295            1.71m\n",
      "        45         405.3082            1.68m\n",
      "        46         404.1150            1.65m\n",
      "        47         403.1636            1.62m\n",
      "        48         401.8808            1.59m\n",
      "        49         399.2120            1.56m\n",
      "        50         398.2935            1.53m\n",
      "        51         396.9488            1.50m\n",
      "        52         396.0410            1.46m\n",
      "        53         395.2635            1.43m\n",
      "        54         393.7726            1.40m\n",
      "        55         393.1879            1.37m\n",
      "        56         392.3797            1.34m\n",
      "        57         391.6420            1.31m\n",
      "        58         390.8817            1.28m\n",
      "        59         389.4336            1.24m\n",
      "        60         389.0242            1.21m\n",
      "        61         388.5508            1.18m\n",
      "        62         387.9921            1.15m\n",
      "        63         386.7855            1.12m\n",
      "        64         386.4795            1.09m\n",
      "        65         385.4561            1.06m\n",
      "        66         385.1473            1.03m\n",
      "        67         384.6866           59.79s\n",
      "        68         384.4507           57.92s\n",
      "        69         384.1753           56.14s\n",
      "        70         383.4169           54.28s\n",
      "        71         383.1234           52.47s\n",
      "        72         382.8585           50.67s\n",
      "        73         382.2243           48.82s\n",
      "        74         382.0643           47.07s\n",
      "        75         381.7884           45.27s\n",
      "        76         381.4527           43.42s\n",
      "        77         381.0091           41.53s\n",
      "        78         380.7170           39.71s\n",
      "        79         380.5373           37.87s\n",
      "        80         380.0926           36.04s\n",
      "        81         379.9939           34.23s\n",
      "        82         379.5260           32.38s\n",
      "        83         379.4282           30.56s\n",
      "        84         379.0502           28.71s\n",
      "        85         378.9420           26.93s\n",
      "        86         378.8057           25.13s\n",
      "        87         378.6765           23.31s\n",
      "        88         378.5909           21.49s\n",
      "        89         378.3773           19.70s\n",
      "        90         378.0804           17.89s\n",
      "        91         378.0026           16.09s\n",
      "        92         377.8301           14.31s\n",
      "        93         377.6579           12.52s\n",
      "        94         377.5907           10.71s\n",
      "        95         377.3569            8.91s\n",
      "        96         377.2948            7.13s\n",
      "        97         377.2173            5.34s\n",
      "        98         377.1317            3.56s\n",
      "        99         377.0908            1.78s\n",
      "       100         376.9019            0.00s\n"
     ]
    },
    {
     "data": {
      "text/plain": [
       "array([0.74713435, 0.74785559, 0.74751812, 0.74763582, 0.74850379])"
      ]
     },
     "execution_count": 144,
     "metadata": {},
     "output_type": "execute_result"
    }
   ],
   "source": [
    "from sklearn.ensemble import GradientBoostingRegressor\n",
    "gbr= GradientBoostingRegressor(n_estimators= 100, max_depth=5, loss= 'ls', verbose= 5)\n",
    "cv_results = cross_validate(gbr, X, Y, cv=5)\n",
    "sorted(cv_results.keys()) \n",
    "cv_results['test_score']  "
   ]
  },
  {
   "cell_type": "code",
   "execution_count": 145,
   "metadata": {},
   "outputs": [
    {
     "name": "stdout",
     "output_type": "stream",
     "text": [
      "      Iter       Train Loss   Remaining Time \n",
      "         1        1336.8097            3.26m\n",
      "         2        1205.0298            3.19m\n",
      "         3        1096.8894            3.09m\n",
      "         4        1005.8857            3.05m\n",
      "         5         930.1229            3.09m\n",
      "         6         867.1869            3.19m\n",
      "         7         813.6304            3.23m\n",
      "         8         768.5892            3.17m\n",
      "         9         730.5078            3.09m\n",
      "        10         697.4872            3.06m\n",
      "        11         669.0092            3.01m\n",
      "        12         643.1762            2.96m\n",
      "        13         621.0038            2.91m\n",
      "        14         601.7265            2.86m\n",
      "        15         584.9951            2.81m\n",
      "        16         569.1971            2.76m\n",
      "        17         555.7202            2.72m\n",
      "        18         544.5249            2.68m\n",
      "        19         533.9868            2.63m\n",
      "        20         522.2816            2.60m\n",
      "        21         514.0338            2.56m\n",
      "        22         504.4010            2.52m\n",
      "        23         495.8181            2.48m\n",
      "        24         488.5058            2.44m\n",
      "        25         482.3594            2.40m\n",
      "        26         476.3199            2.36m\n",
      "        27         471.9524            2.33m\n",
      "        28         464.9730            2.29m\n",
      "        29         455.2929            2.25m\n",
      "        30         451.7589            2.21m\n",
      "        31         448.2080            2.18m\n",
      "        32         440.5723            2.14m\n",
      "        33         437.1679            2.11m\n",
      "        34         434.4324            2.08m\n",
      "        35         432.3308            2.04m\n",
      "        36         426.7654            2.01m\n",
      "        37         424.5874            1.97m\n",
      "        38         421.5667            1.94m\n",
      "        39         419.4813            1.90m\n",
      "        40         416.5084            1.87m\n",
      "        41         414.8794            1.84m\n",
      "        42         412.2972            1.81m\n",
      "        43         410.1560            1.78m\n",
      "        44         408.8149            1.75m\n",
      "        45         406.5903            1.71m\n",
      "        46         405.3425            1.68m\n",
      "        47         402.8357            1.65m\n",
      "        48         401.8699            1.61m\n",
      "        49         400.8760            1.58m\n",
      "        50         399.5095            1.55m\n",
      "        51         398.3176            1.52m\n",
      "        52         396.4614            1.48m\n",
      "        53         395.3645            1.45m\n",
      "        54         394.5791            1.42m\n",
      "        55         393.9539            1.38m\n",
      "        56         393.1731            1.35m\n",
      "        57         392.6033            1.32m\n",
      "        58         391.9230            1.29m\n",
      "        59         390.1187            1.25m\n",
      "        60         389.6959            1.22m\n",
      "        61         389.0216            1.19m\n",
      "        62         388.5364            1.16m\n",
      "        63         387.4685            1.13m\n",
      "        64         387.1438            1.09m\n",
      "        65         386.6218            1.06m\n",
      "        66         385.5659            1.03m\n",
      "        67         385.3073            1.00m\n",
      "        68         385.0400           58.15s\n",
      "        69         383.9906           56.28s\n",
      "        70         383.7178           54.46s\n",
      "        71         383.2155           52.60s\n",
      "        72         382.9110           50.80s\n",
      "        73         382.6926           48.92s\n",
      "        74         382.4243           47.14s\n",
      "        75         381.8399           45.29s\n",
      "        76         381.6462           43.48s\n",
      "        77         381.4309           41.62s\n",
      "        78         380.9017           39.75s\n",
      "        79         380.7551           37.90s\n",
      "        80         380.0718           36.07s\n",
      "        81         379.9296           34.22s\n",
      "        82         379.7973           32.43s\n",
      "        83         379.6502           30.60s\n",
      "        84         378.9910           28.78s\n",
      "        85         378.9136           26.95s\n",
      "        86         378.7911           25.13s\n",
      "        87         378.2638           23.32s\n",
      "        88         378.1123           21.53s\n",
      "        89         377.6905           19.72s\n",
      "        90         377.6267           17.92s\n",
      "        91         377.5354           16.11s\n",
      "        92         377.4245           14.31s\n",
      "        93         377.2518           12.52s\n",
      "        94         377.1854           10.72s\n",
      "        95         377.0299            8.93s\n",
      "        96         376.9888            7.14s\n",
      "        97         376.7152            5.35s\n",
      "        98         376.4488            3.56s\n",
      "        99         376.3459            1.78s\n",
      "       100         376.2691            0.00s\n",
      "      Iter       Train Loss   Remaining Time \n",
      "         1        1336.8968            3.14m\n",
      "         2        1205.1446            3.12m\n",
      "         3        1097.1582            3.04m\n",
      "         4        1005.8401            3.04m\n",
      "         5         930.1534            3.01m\n",
      "         6         867.1429            2.98m\n",
      "         7         813.4290            2.95m\n",
      "         8         767.7347            2.92m\n",
      "         9         729.7781            2.88m\n",
      "        10         696.3395            2.85m\n",
      "        11         667.7296            2.82m\n",
      "        12         641.9479            2.78m\n",
      "        13         620.3963            2.75m\n",
      "        14         600.9752            2.72m\n",
      "        15         583.5773            2.69m\n",
      "        16         568.8660            2.65m\n",
      "        17         554.2202            2.62m\n",
      "        18         542.8581            2.58m\n",
      "        19         532.5581            2.55m\n",
      "        20         520.5146            2.52m\n",
      "        21         511.9267            2.49m\n",
      "        22         502.3146            2.45m\n",
      "        23         495.4163            2.42m\n",
      "        24         489.3360            2.38m\n",
      "        25         483.7452            2.35m\n",
      "        26         476.9892            2.32m\n",
      "        27         471.0991            2.28m\n",
      "        28         464.1986            2.24m\n",
      "        29         459.4574            2.21m\n",
      "        30         450.0938            2.18m\n",
      "        31         446.8346            2.15m\n",
      "        32         442.8725            2.11m\n",
      "        33         438.8601            2.08m\n",
      "        34         431.9175            2.04m\n",
      "        35         428.8235            2.01m\n",
      "        36         425.2821            1.98m\n",
      "        37         423.2408            1.95m\n",
      "        38         419.3318            1.92m\n",
      "        39         415.1008            1.88m\n",
      "        40         413.3647            1.85m\n",
      "        41         411.4879            1.82m\n",
      "        42         410.1121            1.79m\n",
      "        43         407.9472            1.76m\n",
      "        44         406.2799            1.73m\n",
      "        45         404.1572            1.69m\n",
      "        46         403.1529            1.66m\n",
      "        47         402.0554            1.63m\n",
      "        48         400.3622            1.60m\n",
      "        49         398.9789            1.56m\n",
      "        50         398.1055            1.53m\n",
      "        51         397.0312            1.50m\n",
      "        52         394.8184            1.47m\n",
      "        53         394.2609            1.44m\n",
      "        54         392.7676            1.40m\n",
      "        55         392.1891            1.37m\n",
      "        56         391.0476            1.34m\n",
      "        57         390.2435            1.31m\n",
      "        58         389.5775            1.28m\n",
      "        59         388.7589            1.25m\n",
      "        60         387.9114            1.21m\n",
      "        61         386.8491            1.18m\n",
      "        62         386.3219            1.15m\n",
      "        63         385.4178            1.12m\n",
      "        64         385.1354            1.09m\n",
      "        65         384.3645            1.06m\n",
      "        66         384.0764            1.03m\n",
      "        67         383.7815           59.76s\n",
      "        68         383.1636           57.90s\n",
      "        69         382.5945           56.07s\n",
      "        70         382.2644           54.23s\n",
      "        71         381.9857           52.47s\n",
      "        72         381.7508           50.63s\n",
      "        73         381.4012           48.75s\n",
      "        74         381.2211           46.97s\n",
      "        75         380.7561           45.39s\n",
      "        76         380.5809           43.73s\n",
      "        77         380.4318           41.88s\n",
      "        78         379.9435           40.03s\n",
      "        79         379.7077           38.24s\n",
      "        80         379.5589           36.38s\n",
      "        81         379.3129           34.51s\n"
     ]
    },
    {
     "name": "stdout",
     "output_type": "stream",
     "text": [
      "        82         378.9338           32.64s\n",
      "        83         378.6432           30.81s\n",
      "        84         378.5351           28.98s\n",
      "        85         378.3618           27.13s\n",
      "        86         378.2535           25.32s\n",
      "        87         378.0747           23.50s\n",
      "        88         377.9943           21.68s\n",
      "        89         377.6580           19.86s\n",
      "        90         377.5295           18.03s\n",
      "        91         377.4669           16.21s\n",
      "        92         377.3880           14.42s\n",
      "        93         377.2976           12.60s\n",
      "        94         377.2246           10.79s\n",
      "        95         376.9437            8.98s\n",
      "        96         376.8180            7.18s\n",
      "        97         376.7648            5.38s\n",
      "        98         376.6759            3.59s\n",
      "        99         376.4621            1.79s\n",
      "       100         376.2703            0.00s\n",
      "      Iter       Train Loss   Remaining Time \n",
      "         1        1340.1121            3.11m\n",
      "         2        1207.3012            3.12m\n",
      "         3        1097.3709            3.07m\n",
      "         4        1006.5668            3.03m\n",
      "         5         931.2003            2.97m\n",
      "         6         867.2424            2.95m\n",
      "         7         813.9149            2.92m\n",
      "         8         769.1608            2.90m\n",
      "         9         730.7908            2.86m\n",
      "        10         697.5138            2.82m\n",
      "        11         669.0056            2.78m\n",
      "        12         643.5298            2.76m\n",
      "        13         621.7155            2.72m\n",
      "        14         602.3664            2.68m\n",
      "        15         585.9517            2.65m\n",
      "        16         570.6462            2.61m\n",
      "        17         556.3698            2.58m\n",
      "        18         544.0351            2.56m\n",
      "        19         530.8340            2.52m\n",
      "        20         521.8714            2.49m\n",
      "        21         513.3541            2.46m\n",
      "        22         504.8483            2.43m\n",
      "        23         497.5232            2.40m\n",
      "        24         491.4319            2.37m\n",
      "        25         478.5220            2.32m\n",
      "        26         473.4958            2.29m\n",
      "        27         468.0688            2.26m\n",
      "        28         462.6414            2.23m\n",
      "        29         458.2811            2.19m\n",
      "        30         453.4927            2.16m\n",
      "        31         447.8397            2.12m\n",
      "        32         440.5533            2.08m\n",
      "        33         437.2684            2.05m\n",
      "        34         434.8856            2.01m\n",
      "        35         432.2076            1.98m\n",
      "        36         426.6054            1.95m\n",
      "        37         424.5745            1.92m\n",
      "        38         420.0019            1.88m\n",
      "        39         417.9943            1.85m\n",
      "        40         416.4414            1.82m\n",
      "        41         412.8634            1.79m\n",
      "        42         411.4271            1.76m\n",
      "        43         409.6218            1.72m\n",
      "        44         408.1810            1.69m\n",
      "        45         406.4453            1.66m\n",
      "        46         405.3237            1.63m\n",
      "        47         403.6751            1.60m\n",
      "        48         401.4102            1.57m\n",
      "        49         400.3650            1.54m\n",
      "        50         399.5402            1.51m\n",
      "        51         397.7229            1.48m\n",
      "        52         396.9457            1.44m\n",
      "        53         396.3025            1.41m\n",
      "        54         394.7492            1.38m\n",
      "        55         393.8146            1.35m\n",
      "        56         393.2421            1.32m\n",
      "        57         392.6680            1.29m\n",
      "        58         391.4903            1.26m\n",
      "        59         390.9079            1.23m\n",
      "        60         390.1984            1.20m\n",
      "        61         389.5280            1.17m\n",
      "        62         389.1001            1.14m\n",
      "        63         388.5514            1.11m\n",
      "        64         387.9733            1.07m\n",
      "        65         386.6935            1.04m\n",
      "        66         385.9980            1.01m\n",
      "        67         385.5492           58.99s\n",
      "        68         385.1952           57.21s\n",
      "        69         384.8422           55.36s\n",
      "        70         384.3002           53.55s\n",
      "        71         383.9410           51.72s\n",
      "        72         383.6122           49.98s\n",
      "        73         383.3686           48.14s\n",
      "        74         382.9611           46.34s\n",
      "        75         382.7083           44.53s\n",
      "        76         382.4297           42.76s\n",
      "        77         381.6442           40.96s\n",
      "        78         381.2313           39.16s\n",
      "        79         381.0499           37.39s\n",
      "        80         380.8948           35.57s\n",
      "        81         380.4945           33.76s\n",
      "        82         380.2777           31.98s\n",
      "        83         379.8264           30.21s\n",
      "        84         379.7373           28.42s\n",
      "        85         379.2876           26.63s\n",
      "        86         379.0637           24.84s\n",
      "        87         378.9063           23.06s\n",
      "        88         378.8115           21.27s\n",
      "        89         378.6886           19.50s\n",
      "        90         378.6190           17.71s\n",
      "        91         378.2056           15.93s\n",
      "        92         378.1227           14.15s\n",
      "        93         378.0268           12.39s\n",
      "        94         377.9208           10.61s\n",
      "        95         377.7890            8.84s\n",
      "        96         377.6992            7.07s\n",
      "        97         377.6311            5.30s\n",
      "        98         377.2635            3.53s\n",
      "        99         377.1609            1.77s\n",
      "       100         376.9403            0.00s\n",
      "      Iter       Train Loss   Remaining Time \n",
      "         1        1338.7396            3.25m\n",
      "         2        1206.8775            3.16m\n",
      "         3        1098.5950            3.06m\n",
      "         4        1007.4083            3.06m\n",
      "         5         931.3183            3.04m\n",
      "         6         868.2189            3.00m\n",
      "         7         815.1705            2.96m\n",
      "         8         770.1520            2.93m\n",
      "         9         731.5224            2.90m\n",
      "        10         698.8904            2.86m\n",
      "        11         669.8486            2.82m\n",
      "        12         644.1961            2.79m\n",
      "        13         622.0142            2.75m\n",
      "        14         602.9889            2.72m\n",
      "        15         585.5740            2.69m\n",
      "        16         570.6374            2.65m\n",
      "        17         557.7848            2.62m\n",
      "        18         546.3052            2.58m\n",
      "        19         534.6804            2.55m\n",
      "        20         526.0086            2.50m\n",
      "        21         517.0351            2.47m\n",
      "        22         507.1799            2.44m\n",
      "        23         499.0751            2.41m\n",
      "        24         492.6431            2.38m\n",
      "        25         485.2957            2.34m\n",
      "        26         480.7185            2.31m\n",
      "        27         476.0438            2.28m\n",
      "        28         464.5924            2.24m\n",
      "        29         460.8909            2.20m\n",
      "        30         456.4205            2.17m\n",
      "        31         451.3622            2.14m\n",
      "        32         446.5607            2.11m\n",
      "        33         443.1966            2.07m\n",
      "        34         439.6909            2.04m\n",
      "        35         432.6136            2.01m\n",
      "        36         430.4040            1.97m\n",
      "        37         428.3010            1.94m\n",
      "        38         425.4564            1.91m\n",
      "        39         420.1769            1.87m\n",
      "        40         418.4665            1.84m\n",
      "        41         416.6578            1.81m\n",
      "        42         414.5880            1.77m\n",
      "        43         412.0824            1.75m\n",
      "        44         409.4283            1.71m\n",
      "        45         408.1607            1.68m\n",
      "        46         405.8500            1.65m\n",
      "        47         403.9014            1.61m\n",
      "        48         402.6175            1.58m\n",
      "        49         401.5943            1.55m\n",
      "        50         399.2900            1.52m\n",
      "        51         398.0527            1.49m\n",
      "        52         397.3374            1.45m\n",
      "        53         395.9626            1.42m\n",
      "        54         395.1651            1.39m\n",
      "        55         394.1485            1.36m\n",
      "        56         393.4209            1.33m\n",
      "        57         392.1150            1.30m\n",
      "        58         391.5617            1.27m\n",
      "        59         390.9836            1.24m\n",
      "        60         389.7746            1.20m\n",
      "        61         388.4312            1.17m\n",
      "        62         387.9710            1.14m\n"
     ]
    },
    {
     "name": "stdout",
     "output_type": "stream",
     "text": [
      "        63         387.4719            1.11m\n",
      "        64         386.4564            1.08m\n",
      "        65         385.9758            1.05m\n",
      "        66         385.6094            1.02m\n",
      "        67         384.9974           59.35s\n",
      "        68         384.7233           57.51s\n",
      "        69         383.9080           55.67s\n",
      "        70         383.6756           53.86s\n",
      "        71         383.0503           52.04s\n",
      "        72         382.6917           50.27s\n",
      "        73         382.0758           48.41s\n",
      "        74         381.8687           46.60s\n",
      "        75         381.5636           44.78s\n",
      "        76         381.1003           42.96s\n",
      "        77         380.7933           41.18s\n",
      "        78         380.6646           39.35s\n",
      "        79         380.2895           37.55s\n",
      "        80         380.1887           35.75s\n",
      "        81         379.9676           33.96s\n",
      "        82         379.6262           32.15s\n",
      "        83         379.4967           30.37s\n",
      "        84         379.0721           28.56s\n",
      "        85         378.9218           26.78s\n",
      "        86         378.8060           25.00s\n",
      "        87         378.7188           23.20s\n",
      "        88         378.6116           21.40s\n",
      "        89         378.3624           19.60s\n",
      "        90         378.2713           17.82s\n",
      "        91         378.1777           16.02s\n",
      "        92         378.1023           14.25s\n",
      "        93         377.8834           12.46s\n",
      "        94         377.6656           10.68s\n",
      "        95         377.4298            8.90s\n",
      "        96         377.2643            7.11s\n",
      "        97         377.1894            5.34s\n",
      "        98         377.1234            3.56s\n",
      "        99         377.0285            1.78s\n",
      "       100         376.8636            0.00s\n",
      "      Iter       Train Loss   Remaining Time \n",
      "         1        1339.2202            3.10m\n",
      "         2        1207.0837            3.07m\n",
      "         3        1099.4943            3.03m\n",
      "         4        1007.9267            3.01m\n",
      "         5         931.7475            2.98m\n",
      "         6         868.2907            2.96m\n",
      "         7         815.3158            2.92m\n",
      "         8         769.9498            2.89m\n",
      "         9         731.5152            2.86m\n",
      "        10         698.2381            2.83m\n",
      "        11         669.7985            2.80m\n",
      "        12         643.9514            2.77m\n",
      "        13         621.8843            2.73m\n",
      "        14         602.4042            2.69m\n",
      "        15         585.5870            2.66m\n",
      "        16         571.6923            2.62m\n",
      "        17         557.4236            2.59m\n",
      "        18         546.3423            2.55m\n",
      "        19         536.2223            2.52m\n",
      "        20         525.4523            2.49m\n",
      "        21         513.6966            2.46m\n",
      "        22         505.1699            2.43m\n",
      "        23         495.6819            2.40m\n",
      "        24         487.6673            2.37m\n",
      "        25         480.8428            2.34m\n",
      "        26         474.6920            2.31m\n",
      "        27         469.0272            2.27m\n",
      "        28         465.3954            2.23m\n",
      "        29         460.0128            2.20m\n",
      "        30         453.2076            2.16m\n",
      "        31         449.0319            2.13m\n",
      "        32         446.0640            2.10m\n",
      "        33         440.0049            2.06m\n",
      "        34         436.7752            2.03m\n",
      "        35         432.2590            2.00m\n",
      "        36         429.9491            1.97m\n",
      "        37         427.1032            1.93m\n",
      "        38         422.8461            1.90m\n",
      "        39         421.1128            1.87m\n",
      "        40         418.3784            1.84m\n",
      "        41         413.9591            1.80m\n",
      "        42         411.6595            1.77m\n",
      "        43         410.0756            1.74m\n",
      "        44         408.7295            1.71m\n",
      "        45         405.3082            1.68m\n",
      "        46         404.1150            1.65m\n",
      "        47         403.1636            1.61m\n",
      "        48         401.8808            1.58m\n",
      "        49         399.2120            1.55m\n",
      "        50         398.2935            1.52m\n",
      "        51         396.9488            1.49m\n",
      "        52         396.0410            1.46m\n",
      "        53         395.2635            1.43m\n",
      "        54         393.7726            1.40m\n",
      "        55         393.1879            1.36m\n",
      "        56         392.3797            1.34m\n",
      "        57         391.6420            1.31m\n",
      "        58         390.8817            1.28m\n",
      "        59         389.4336            1.24m\n",
      "        60         389.0242            1.21m\n",
      "        61         388.5508            1.18m\n",
      "        62         387.9921            1.15m\n",
      "        63         386.7855            1.12m\n",
      "        64         386.4795            1.09m\n",
      "        65         385.4561            1.06m\n",
      "        66         385.1473            1.03m\n",
      "        67         384.6866           59.71s\n",
      "        68         384.4507           57.85s\n",
      "        69         384.1753           56.13s\n",
      "        70         383.4169           54.28s\n",
      "        71         383.1234           52.47s\n",
      "        72         382.8585           50.68s\n",
      "        73         382.2243           48.84s\n",
      "        74         382.0643           47.05s\n",
      "        75         381.7884           45.26s\n",
      "        76         381.4527           43.42s\n",
      "        77         381.0091           41.53s\n",
      "        78         380.7170           39.69s\n",
      "        79         380.5373           37.84s\n",
      "        80         380.0926           36.00s\n",
      "        81         379.9939           34.20s\n",
      "        82         379.5260           32.34s\n",
      "        83         379.4282           30.54s\n",
      "        84         379.0502           28.69s\n",
      "        85         378.9420           26.91s\n",
      "        86         378.8057           25.11s\n",
      "        87         378.6765           23.30s\n",
      "        88         378.5909           21.47s\n",
      "        89         378.3773           19.68s\n",
      "        90         378.0804           17.86s\n",
      "        91         378.0026           16.07s\n",
      "        92         377.8301           14.28s\n",
      "        93         377.6579           12.49s\n",
      "        94         377.5907           10.69s\n",
      "        95         377.3569            8.90s\n",
      "        96         377.2948            7.12s\n",
      "        97         377.2173            5.33s\n",
      "        98         377.1317            3.55s\n",
      "        99         377.0908            1.78s\n",
      "       100         376.9019            0.00s\n",
      "[-379.98481765 -378.76999501 -379.42119513 -377.09156732 -375.51282316]\n",
      "378.15607965623076\n"
     ]
    }
   ],
   "source": [
    "scores = cross_validate(gbr, X, Y, cv=5,                         \n",
    "                        scoring=('r2', 'neg_mean_squared_error'),\n",
    "                        return_train_score=True)\n",
    "mean_mse= -1.0*np.mean(scores['test_neg_mean_squared_error'])\n",
    "print(scores['test_neg_mean_squared_error'])\n",
    "print(mean_mse)  "
   ]
  },
  {
   "cell_type": "code",
   "execution_count": null,
   "metadata": {},
   "outputs": [],
   "source": [
    "X_train = train_df['jobType','degree','major','industry','yearsExperience','milesFromMetropolis']\n",
    "y_train = train_df['salary']\n",
    "X_test = test_features_df['jobType','degree','major','industry','yearsExperience','milesFromMetropolis']\n",
    "y_test = test_features_df['salary']\n",
    "tree_model_maker = DecisionTreeRegressor(random_state= 9999, max_depth =5)\n",
    "tree_model_fit = tree_model_maker.fit(X,Y)\n"
   ]
  },
  {
   "cell_type": "markdown",
   "metadata": {},
   "source": [
    "### ---- 7 Hypothesize solution ----"
   ]
  },
  {
   "cell_type": "code",
   "execution_count": null,
   "metadata": {},
   "outputs": [],
   "source": [
    "#brainstorm 3 models that you think may improve results over the baseline model based\n",
    "#on your "
   ]
  },
  {
   "cell_type": "markdown",
   "metadata": {},
   "source": [
    "Brainstorm 3 models that you think may improve results over the baseline model based on your EDA and explain why they're reasonable solutions here.\n",
    "\n",
    "Also write down any new features that you think you should try adding to the model based on your EDA, e.g. interaction variables, summary statistics for each group, etc"
   ]
  },
  {
   "cell_type": "markdown",
   "metadata": {},
   "source": [
    "## Part 3 - DEVELOP"
   ]
  },
  {
   "cell_type": "markdown",
   "metadata": {},
   "source": [
    "You will cycle through creating features, tuning models, and training/validing models (steps 7-9) until you've reached your efficacy goal\n",
    "\n",
    "#### Your metric will be MSE and your goal is:\n",
    " - <360 for entry-level data science roles\n",
    " - <320 for senior data science roles"
   ]
  },
  {
   "cell_type": "markdown",
   "metadata": {},
   "source": [
    "### ---- 8 Engineer features  ----"
   ]
  },
  {
   "cell_type": "code",
   "execution_count": 150,
   "metadata": {},
   "outputs": [
    {
     "ename": "ValueError",
     "evalue": "No axis named degree for object type <class 'pandas.core.frame.DataFrame'>",
     "output_type": "error",
     "traceback": [
      "\u001b[0;31m---------------------------------------------------------------------------\u001b[0m",
      "\u001b[0;31mValueError\u001b[0m                                Traceback (most recent call last)",
      "\u001b[0;32m<ipython-input-150-22e71542516b>\u001b[0m in \u001b[0;36m<module>\u001b[0;34m\u001b[0m\n\u001b[1;32m      1\u001b[0m \u001b[0;31m#make sure that data is ready for modeling\u001b[0m\u001b[0;34m\u001b[0m\u001b[0;34m\u001b[0m\u001b[0;34m\u001b[0m\u001b[0m\n\u001b[1;32m      2\u001b[0m \u001b[0;31m#create any new features needed to potentially enhance model\u001b[0m\u001b[0;34m\u001b[0m\u001b[0;34m\u001b[0m\u001b[0;34m\u001b[0m\u001b[0m\n\u001b[0;32m----> 3\u001b[0;31m \u001b[0mstats\u001b[0m \u001b[0;34m=\u001b[0m \u001b[0mtrain_df\u001b[0m\u001b[0;34m.\u001b[0m\u001b[0mgroupby\u001b[0m\u001b[0;34m(\u001b[0m\u001b[0;34m'jobType'\u001b[0m\u001b[0;34m,\u001b[0m\u001b[0;34m'degree'\u001b[0m\u001b[0;34m,\u001b[0m\u001b[0;34m'major'\u001b[0m\u001b[0;34m,\u001b[0m\u001b[0;34m'industry'\u001b[0m\u001b[0;34m)\u001b[0m\u001b[0;34m[\u001b[0m\u001b[0;34m'salary'\u001b[0m\u001b[0;34m]\u001b[0m\u001b[0;34m.\u001b[0m\u001b[0magg\u001b[0m\u001b[0;34m(\u001b[0m\u001b[0;34m[\u001b[0m\u001b[0;34m'mean'\u001b[0m\u001b[0;34m,\u001b[0m \u001b[0;34m'max'\u001b[0m\u001b[0;34m,\u001b[0m \u001b[0;34m'min'\u001b[0m\u001b[0;34m]\u001b[0m\u001b[0;34m)\u001b[0m\u001b[0;34m\u001b[0m\u001b[0;34m\u001b[0m\u001b[0m\n\u001b[0m\u001b[1;32m      4\u001b[0m \u001b[0mstats\u001b[0m\u001b[0;34m.\u001b[0m\u001b[0mcolumns\u001b[0m \u001b[0;34m=\u001b[0m \u001b[0;34m[\u001b[0m\u001b[0;34m'mean'\u001b[0m\u001b[0;34m,\u001b[0m \u001b[0;34m'max'\u001b[0m\u001b[0;34m,\u001b[0m \u001b[0;34m'min'\u001b[0m\u001b[0;34m]\u001b[0m\u001b[0;34m\u001b[0m\u001b[0;34m\u001b[0m\u001b[0m\n",
      "\u001b[0;32m~/anaconda3/lib/python3.6/site-packages/pandas/core/generic.py\u001b[0m in \u001b[0;36mgroupby\u001b[0;34m(self, by, axis, level, as_index, sort, group_keys, squeeze, observed, **kwargs)\u001b[0m\n\u001b[1;32m   6660\u001b[0m         \u001b[0;32mif\u001b[0m \u001b[0mlevel\u001b[0m \u001b[0;32mis\u001b[0m \u001b[0;32mNone\u001b[0m \u001b[0;32mand\u001b[0m \u001b[0mby\u001b[0m \u001b[0;32mis\u001b[0m \u001b[0;32mNone\u001b[0m\u001b[0;34m:\u001b[0m\u001b[0;34m\u001b[0m\u001b[0;34m\u001b[0m\u001b[0m\n\u001b[1;32m   6661\u001b[0m             \u001b[0;32mraise\u001b[0m \u001b[0mTypeError\u001b[0m\u001b[0;34m(\u001b[0m\u001b[0;34m\"You have to supply one of 'by' and 'level'\"\u001b[0m\u001b[0;34m)\u001b[0m\u001b[0;34m\u001b[0m\u001b[0;34m\u001b[0m\u001b[0m\n\u001b[0;32m-> 6662\u001b[0;31m         \u001b[0maxis\u001b[0m \u001b[0;34m=\u001b[0m \u001b[0mself\u001b[0m\u001b[0;34m.\u001b[0m\u001b[0m_get_axis_number\u001b[0m\u001b[0;34m(\u001b[0m\u001b[0maxis\u001b[0m\u001b[0;34m)\u001b[0m\u001b[0;34m\u001b[0m\u001b[0;34m\u001b[0m\u001b[0m\n\u001b[0m\u001b[1;32m   6663\u001b[0m         return groupby(self, by=by, axis=axis, level=level, as_index=as_index,\n\u001b[1;32m   6664\u001b[0m                        \u001b[0msort\u001b[0m\u001b[0;34m=\u001b[0m\u001b[0msort\u001b[0m\u001b[0;34m,\u001b[0m \u001b[0mgroup_keys\u001b[0m\u001b[0;34m=\u001b[0m\u001b[0mgroup_keys\u001b[0m\u001b[0;34m,\u001b[0m \u001b[0msqueeze\u001b[0m\u001b[0;34m=\u001b[0m\u001b[0msqueeze\u001b[0m\u001b[0;34m,\u001b[0m\u001b[0;34m\u001b[0m\u001b[0;34m\u001b[0m\u001b[0m\n",
      "\u001b[0;32m~/anaconda3/lib/python3.6/site-packages/pandas/core/generic.py\u001b[0m in \u001b[0;36m_get_axis_number\u001b[0;34m(self, axis)\u001b[0m\n\u001b[1;32m    373\u001b[0m                 \u001b[0;32mpass\u001b[0m\u001b[0;34m\u001b[0m\u001b[0;34m\u001b[0m\u001b[0m\n\u001b[1;32m    374\u001b[0m         raise ValueError('No axis named {0} for object type {1}'\n\u001b[0;32m--> 375\u001b[0;31m                          .format(axis, type(self)))\n\u001b[0m\u001b[1;32m    376\u001b[0m \u001b[0;34m\u001b[0m\u001b[0m\n\u001b[1;32m    377\u001b[0m     \u001b[0;32mdef\u001b[0m \u001b[0m_get_axis_name\u001b[0m\u001b[0;34m(\u001b[0m\u001b[0mself\u001b[0m\u001b[0;34m,\u001b[0m \u001b[0maxis\u001b[0m\u001b[0;34m)\u001b[0m\u001b[0;34m:\u001b[0m\u001b[0;34m\u001b[0m\u001b[0;34m\u001b[0m\u001b[0m\n",
      "\u001b[0;31mValueError\u001b[0m: No axis named degree for object type <class 'pandas.core.frame.DataFrame'>"
     ]
    }
   ],
   "source": [
    "#make sure that data is ready for modeling\n",
    "#create any new features needed to potentially enhance model\n",
    "stats = train_df.groupby('jobType','degree','major','industry')['salary'].agg(['mean', 'max', 'min'])\n",
    "stats.columns = ['mean', 'max', 'min']"
   ]
  },
  {
   "cell_type": "markdown",
   "metadata": {},
   "source": [
    "### ---- 9 Create models ----"
   ]
  },
  {
   "cell_type": "code",
   "execution_count": 15,
   "metadata": {},
   "outputs": [],
   "source": [
    "#create and tune the models that you brainstormed during part 2"
   ]
  },
  {
   "cell_type": "markdown",
   "metadata": {},
   "source": [
    "### ---- 10 Test models ----"
   ]
  },
  {
   "cell_type": "code",
   "execution_count": 1,
   "metadata": {},
   "outputs": [],
   "source": [
    "#do 5-fold cross validation on models and measure MSE"
   ]
  },
  {
   "cell_type": "markdown",
   "metadata": {},
   "source": [
    "### ---- 11 Select best model  ----"
   ]
  },
  {
   "cell_type": "code",
   "execution_count": null,
   "metadata": {},
   "outputs": [],
   "source": [
    "#select the model with the lowest error as your \"prodcuction\" model"
   ]
  },
  {
   "cell_type": "markdown",
   "metadata": {},
   "source": [
    "## Part 4 - DEPLOY"
   ]
  },
  {
   "cell_type": "markdown",
   "metadata": {},
   "source": [
    "### ---- 12 Automate pipeline ----"
   ]
  },
  {
   "cell_type": "code",
   "execution_count": null,
   "metadata": {},
   "outputs": [],
   "source": [
    "#write script that trains model on entire training set, saves model to disk,\n",
    "#and scores the \"test\" dataset"
   ]
  },
  {
   "cell_type": "markdown",
   "metadata": {},
   "source": [
    "### ---- 13 Deploy solution ----"
   ]
  },
  {
   "cell_type": "code",
   "execution_count": 16,
   "metadata": {},
   "outputs": [],
   "source": [
    "#save your prediction to a csv file or optionally save them as a table in a SQL database\n",
    "#additionally, you want to save a visualization and summary of your prediction and feature importances\n",
    "#these visualizations and summaries will be extremely useful to business stakeholders"
   ]
  },
  {
   "cell_type": "markdown",
   "metadata": {},
   "source": [
    "### ---- 14 Measure efficacy ----"
   ]
  },
  {
   "cell_type": "markdown",
   "metadata": {},
   "source": [
    "We'll skip this step since we don't have the outcomes for the test data"
   ]
  },
  {
   "cell_type": "code",
   "execution_count": null,
   "metadata": {},
   "outputs": [],
   "source": []
  },
  {
   "cell_type": "code",
   "execution_count": null,
   "metadata": {},
   "outputs": [],
   "source": []
  },
  {
   "cell_type": "code",
   "execution_count": null,
   "metadata": {},
   "outputs": [],
   "source": []
  },
  {
   "cell_type": "code",
   "execution_count": null,
   "metadata": {},
   "outputs": [],
   "source": []
  }
 ],
 "metadata": {
  "kernelspec": {
   "display_name": "Python 3",
   "language": "python",
   "name": "python3"
  },
  "language_info": {
   "codemirror_mode": {
    "name": "ipython",
    "version": 3
   },
   "file_extension": ".py",
   "mimetype": "text/x-python",
   "name": "python",
   "nbconvert_exporter": "python",
   "pygments_lexer": "ipython3",
   "version": "3.6.8"
  }
 },
 "nbformat": 4,
 "nbformat_minor": 2
}
